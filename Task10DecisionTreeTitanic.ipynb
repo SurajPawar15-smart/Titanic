{
  "nbformat": 4,
  "nbformat_minor": 0,
  "metadata": {
    "colab": {
      "name": "Task10DecisionTreeTitanic.ipynb",
      "provenance": [],
      "collapsed_sections": []
    },
    "kernelspec": {
      "name": "python3",
      "display_name": "Python 3"
    }
  },
  "cells": [
    {
      "cell_type": "markdown",
      "metadata": {
        "id": "wktdlRAMz6oU"
      },
      "source": [
        "**Name :Suraj Sanjeev Pawar**"
      ]
    },
    {
      "cell_type": "markdown",
      "metadata": {
        "id": "NQj8-3om0AAN"
      },
      "source": [
        "**Registration ID :GO-WTP-1839**"
      ]
    },
    {
      "cell_type": "markdown",
      "metadata": {
        "id": "Qfp_08Maz9qn"
      },
      "source": [
        "**Task-10 : Prediction using Supervised Machine Learning using Decision Tree (Titanic Dataset)**"
      ]
    },
    {
      "cell_type": "markdown",
      "metadata": {
        "id": "G_-AsSHr8_J3"
      },
      "source": [
        "***Titanic Survival Prediction data set, the main task is to predict whether the passenger will survive or not. The survived column has two values where 0 indicates Not Survived, and 1 indicates Survived.***"
      ]
    },
    {
      "cell_type": "markdown",
      "metadata": {
        "id": "d-Svzzuw_xCa"
      },
      "source": [
        "***Importing Some Required Libraries*** "
      ]
    },
    {
      "cell_type": "code",
      "metadata": {
        "id": "aFjLiC_nXXcZ"
      },
      "source": [
        "import numpy as np\r\n",
        "import pandas as pd\r\n",
        "import matplotlib.pyplot as plt\r\n",
        "import seaborn as sns"
      ],
      "execution_count": 1,
      "outputs": []
    },
    {
      "cell_type": "markdown",
      "metadata": {
        "id": "AHksxXTC0d8H"
      },
      "source": [
        "***Importing the Dataset***"
      ]
    },
    {
      "cell_type": "code",
      "metadata": {
        "colab": {
          "base_uri": "https://localhost:8080/",
          "height": 521
        },
        "id": "m_vVAjok0cen",
        "outputId": "edc04189-f341-421f-8f7b-af7c59683dbc"
      },
      "source": [
        "titanic_df=pd.read_csv('Titanic.csv')\r\n",
        "titanic_df"
      ],
      "execution_count": 3,
      "outputs": [
        {
          "output_type": "execute_result",
          "data": {
            "text/html": [
              "<div>\n",
              "<style scoped>\n",
              "    .dataframe tbody tr th:only-of-type {\n",
              "        vertical-align: middle;\n",
              "    }\n",
              "\n",
              "    .dataframe tbody tr th {\n",
              "        vertical-align: top;\n",
              "    }\n",
              "\n",
              "    .dataframe thead th {\n",
              "        text-align: right;\n",
              "    }\n",
              "</style>\n",
              "<table border=\"1\" class=\"dataframe\">\n",
              "  <thead>\n",
              "    <tr style=\"text-align: right;\">\n",
              "      <th></th>\n",
              "      <th>PassengerId</th>\n",
              "      <th>Survived</th>\n",
              "      <th>Pclass</th>\n",
              "      <th>Name</th>\n",
              "      <th>Sex</th>\n",
              "      <th>Age</th>\n",
              "      <th>SibSp</th>\n",
              "      <th>Parch</th>\n",
              "      <th>Ticket</th>\n",
              "      <th>Fare</th>\n",
              "      <th>Cabin</th>\n",
              "      <th>Embarked</th>\n",
              "    </tr>\n",
              "  </thead>\n",
              "  <tbody>\n",
              "    <tr>\n",
              "      <th>0</th>\n",
              "      <td>1</td>\n",
              "      <td>0</td>\n",
              "      <td>3</td>\n",
              "      <td>Braund, Mr. Owen Harris</td>\n",
              "      <td>male</td>\n",
              "      <td>22.0</td>\n",
              "      <td>1</td>\n",
              "      <td>0</td>\n",
              "      <td>A/5 21171</td>\n",
              "      <td>7.2500</td>\n",
              "      <td>NaN</td>\n",
              "      <td>S</td>\n",
              "    </tr>\n",
              "    <tr>\n",
              "      <th>1</th>\n",
              "      <td>2</td>\n",
              "      <td>1</td>\n",
              "      <td>1</td>\n",
              "      <td>Cumings, Mrs. John Bradley (Florence Briggs Th...</td>\n",
              "      <td>female</td>\n",
              "      <td>38.0</td>\n",
              "      <td>1</td>\n",
              "      <td>0</td>\n",
              "      <td>PC 17599</td>\n",
              "      <td>71.2833</td>\n",
              "      <td>C85</td>\n",
              "      <td>C</td>\n",
              "    </tr>\n",
              "    <tr>\n",
              "      <th>2</th>\n",
              "      <td>3</td>\n",
              "      <td>1</td>\n",
              "      <td>3</td>\n",
              "      <td>Heikkinen, Miss. Laina</td>\n",
              "      <td>female</td>\n",
              "      <td>26.0</td>\n",
              "      <td>0</td>\n",
              "      <td>0</td>\n",
              "      <td>STON/O2. 3101282</td>\n",
              "      <td>7.9250</td>\n",
              "      <td>NaN</td>\n",
              "      <td>S</td>\n",
              "    </tr>\n",
              "    <tr>\n",
              "      <th>3</th>\n",
              "      <td>4</td>\n",
              "      <td>1</td>\n",
              "      <td>1</td>\n",
              "      <td>Futrelle, Mrs. Jacques Heath (Lily May Peel)</td>\n",
              "      <td>female</td>\n",
              "      <td>35.0</td>\n",
              "      <td>1</td>\n",
              "      <td>0</td>\n",
              "      <td>113803</td>\n",
              "      <td>53.1000</td>\n",
              "      <td>C123</td>\n",
              "      <td>S</td>\n",
              "    </tr>\n",
              "    <tr>\n",
              "      <th>4</th>\n",
              "      <td>5</td>\n",
              "      <td>0</td>\n",
              "      <td>3</td>\n",
              "      <td>Allen, Mr. William Henry</td>\n",
              "      <td>male</td>\n",
              "      <td>35.0</td>\n",
              "      <td>0</td>\n",
              "      <td>0</td>\n",
              "      <td>373450</td>\n",
              "      <td>8.0500</td>\n",
              "      <td>NaN</td>\n",
              "      <td>S</td>\n",
              "    </tr>\n",
              "    <tr>\n",
              "      <th>...</th>\n",
              "      <td>...</td>\n",
              "      <td>...</td>\n",
              "      <td>...</td>\n",
              "      <td>...</td>\n",
              "      <td>...</td>\n",
              "      <td>...</td>\n",
              "      <td>...</td>\n",
              "      <td>...</td>\n",
              "      <td>...</td>\n",
              "      <td>...</td>\n",
              "      <td>...</td>\n",
              "      <td>...</td>\n",
              "    </tr>\n",
              "    <tr>\n",
              "      <th>886</th>\n",
              "      <td>887</td>\n",
              "      <td>0</td>\n",
              "      <td>2</td>\n",
              "      <td>Montvila, Rev. Juozas</td>\n",
              "      <td>male</td>\n",
              "      <td>27.0</td>\n",
              "      <td>0</td>\n",
              "      <td>0</td>\n",
              "      <td>211536</td>\n",
              "      <td>13.0000</td>\n",
              "      <td>NaN</td>\n",
              "      <td>S</td>\n",
              "    </tr>\n",
              "    <tr>\n",
              "      <th>887</th>\n",
              "      <td>888</td>\n",
              "      <td>1</td>\n",
              "      <td>1</td>\n",
              "      <td>Graham, Miss. Margaret Edith</td>\n",
              "      <td>female</td>\n",
              "      <td>19.0</td>\n",
              "      <td>0</td>\n",
              "      <td>0</td>\n",
              "      <td>112053</td>\n",
              "      <td>30.0000</td>\n",
              "      <td>B42</td>\n",
              "      <td>S</td>\n",
              "    </tr>\n",
              "    <tr>\n",
              "      <th>888</th>\n",
              "      <td>889</td>\n",
              "      <td>0</td>\n",
              "      <td>3</td>\n",
              "      <td>Johnston, Miss. Catherine Helen \"Carrie\"</td>\n",
              "      <td>female</td>\n",
              "      <td>NaN</td>\n",
              "      <td>1</td>\n",
              "      <td>2</td>\n",
              "      <td>W./C. 6607</td>\n",
              "      <td>23.4500</td>\n",
              "      <td>NaN</td>\n",
              "      <td>S</td>\n",
              "    </tr>\n",
              "    <tr>\n",
              "      <th>889</th>\n",
              "      <td>890</td>\n",
              "      <td>1</td>\n",
              "      <td>1</td>\n",
              "      <td>Behr, Mr. Karl Howell</td>\n",
              "      <td>male</td>\n",
              "      <td>26.0</td>\n",
              "      <td>0</td>\n",
              "      <td>0</td>\n",
              "      <td>111369</td>\n",
              "      <td>30.0000</td>\n",
              "      <td>C148</td>\n",
              "      <td>C</td>\n",
              "    </tr>\n",
              "    <tr>\n",
              "      <th>890</th>\n",
              "      <td>891</td>\n",
              "      <td>0</td>\n",
              "      <td>3</td>\n",
              "      <td>Dooley, Mr. Patrick</td>\n",
              "      <td>male</td>\n",
              "      <td>32.0</td>\n",
              "      <td>0</td>\n",
              "      <td>0</td>\n",
              "      <td>370376</td>\n",
              "      <td>7.7500</td>\n",
              "      <td>NaN</td>\n",
              "      <td>Q</td>\n",
              "    </tr>\n",
              "  </tbody>\n",
              "</table>\n",
              "<p>891 rows × 12 columns</p>\n",
              "</div>"
            ],
            "text/plain": [
              "     PassengerId  Survived  Pclass  ...     Fare Cabin  Embarked\n",
              "0              1         0       3  ...   7.2500   NaN         S\n",
              "1              2         1       1  ...  71.2833   C85         C\n",
              "2              3         1       3  ...   7.9250   NaN         S\n",
              "3              4         1       1  ...  53.1000  C123         S\n",
              "4              5         0       3  ...   8.0500   NaN         S\n",
              "..           ...       ...     ...  ...      ...   ...       ...\n",
              "886          887         0       2  ...  13.0000   NaN         S\n",
              "887          888         1       1  ...  30.0000   B42         S\n",
              "888          889         0       3  ...  23.4500   NaN         S\n",
              "889          890         1       1  ...  30.0000  C148         C\n",
              "890          891         0       3  ...   7.7500   NaN         Q\n",
              "\n",
              "[891 rows x 12 columns]"
            ]
          },
          "metadata": {
            "tags": []
          },
          "execution_count": 3
        }
      ]
    },
    {
      "cell_type": "code",
      "metadata": {
        "colab": {
          "base_uri": "https://localhost:8080/"
        },
        "id": "iHeW6DGF1H67",
        "outputId": "1e1856b4-fb40-4043-b5d8-0cc0d2829a51"
      },
      "source": [
        "titanic_df.shape"
      ],
      "execution_count": 4,
      "outputs": [
        {
          "output_type": "execute_result",
          "data": {
            "text/plain": [
              "(891, 12)"
            ]
          },
          "metadata": {
            "tags": []
          },
          "execution_count": 4
        }
      ]
    },
    {
      "cell_type": "markdown",
      "metadata": {
        "id": "UjmvHG4f9Pdz"
      },
      "source": [
        "***Seaborn and Matplotlib Data Visualization Libraries***"
      ]
    },
    {
      "cell_type": "code",
      "metadata": {
        "colab": {
          "base_uri": "https://localhost:8080/",
          "height": 296
        },
        "id": "tTYGvUr_1L9O",
        "outputId": "8be79a0f-7a92-44eb-d366-8b1d6469f601"
      },
      "source": [
        "sns.countplot(x='Survived',data=titanic_df)"
      ],
      "execution_count": 5,
      "outputs": [
        {
          "output_type": "execute_result",
          "data": {
            "text/plain": [
              "<matplotlib.axes._subplots.AxesSubplot at 0x7fd6217b7438>"
            ]
          },
          "metadata": {
            "tags": []
          },
          "execution_count": 5
        },
        {
          "output_type": "display_data",
          "data": {
            "image/png": "[encoded data removed]",
            "text/plain": [
              "<Figure size 432x288 with 1 Axes>"
            ]
          },
          "metadata": {
            "tags": [],
            "needs_background": "light"
          }
        }
      ]
    },
    {
      "cell_type": "code",
      "metadata": {
        "colab": {
          "base_uri": "https://localhost:8080/",
          "height": 296
        },
        "id": "HtXzd3YG1XRe",
        "outputId": "4931526d-902a-4fdd-fe8c-7f0dd769c572"
      },
      "source": [
        "sns.countplot(x='Survived',hue='Sex',data=titanic_df,palette='winter')"
      ],
      "execution_count": 6,
      "outputs": [
        {
          "output_type": "execute_result",
          "data": {
            "text/plain": [
              "<matplotlib.axes._subplots.AxesSubplot at 0x7fd62176aef0>"
            ]
          },
          "metadata": {
            "tags": []
          },
          "execution_count": 6
        },
        {
          "output_type": "display_data",
          "data": {
            "image/png": "[encoded data removed]",
            "text/plain": [
              "<Figure size 432x288 with 1 Axes>"
            ]
          },
          "metadata": {
            "tags": [],
            "needs_background": "light"
          }
        }
      ]
    },
    {
      "cell_type": "code",
      "metadata": {
        "colab": {
          "base_uri": "https://localhost:8080/",
          "height": 296
        },
        "id": "kl8TMk3N1mpl",
        "outputId": "ff4503a8-32c1-4c91-9c6c-fd495ae3cd51"
      },
      "source": [
        "sns.countplot(x='Survived',hue='Pclass',data=titanic_df,palette='PuBu')"
      ],
      "execution_count": 7,
      "outputs": [
        {
          "output_type": "execute_result",
          "data": {
            "text/plain": [
              "<matplotlib.axes._subplots.AxesSubplot at 0x7fd6212568d0>"
            ]
          },
          "metadata": {
            "tags": []
          },
          "execution_count": 7
        },
        {
          "output_type": "display_data",
          "data": {
            "image/png": "[encoded data removed]",
            "text/plain": [
              "<Figure size 432x288 with 1 Axes>"
            ]
          },
          "metadata": {
            "tags": [],
            "needs_background": "light"
          }
        }
      ]
    },
    {
      "cell_type": "code",
      "metadata": {
        "colab": {
          "base_uri": "https://localhost:8080/",
          "height": 282
        },
        "id": "279wqOdK12wM",
        "outputId": "80cb80c6-cd82-4483-8b91-92ac780ac97b"
      },
      "source": [
        "titanic_df['Age'].plot.hist()"
      ],
      "execution_count": 8,
      "outputs": [
        {
          "output_type": "execute_result",
          "data": {
            "text/plain": [
              "<matplotlib.axes._subplots.AxesSubplot at 0x7fd6207531d0>"
            ]
          },
          "metadata": {
            "tags": []
          },
          "execution_count": 8
        },
        {
          "output_type": "display_data",
          "data": {
            "image/png": "[encoded data removed]",
            "text/plain": [
              "<Figure size 432x288 with 1 Axes>"
            ]
          },
          "metadata": {
            "tags": [],
            "needs_background": "light"
          }
        }
      ]
    },
    {
      "cell_type": "code",
      "metadata": {
        "colab": {
          "base_uri": "https://localhost:8080/",
          "height": 337
        },
        "id": "uMUvkTgk2A3n",
        "outputId": "7086e5b3-b950-43d9-950c-ff153ddde788"
      },
      "source": [
        "titanic_df['Fare'].plot.hist(bins=20,figsize=(10,5))"
      ],
      "execution_count": 9,
      "outputs": [
        {
          "output_type": "execute_result",
          "data": {
            "text/plain": [
              "<matplotlib.axes._subplots.AxesSubplot at 0x7fd6206695f8>"
            ]
          },
          "metadata": {
            "tags": []
          },
          "execution_count": 9
        },
        {
          "output_type": "display_data",
          "data": {
            "image/png": "[encoded data removed]",
            "text/plain": [
              "<Figure size 720x360 with 1 Axes>"
            ]
          },
          "metadata": {
            "tags": [],
            "needs_background": "light"
          }
        }
      ]
    },
    {
      "cell_type": "code",
      "metadata": {
        "colab": {
          "base_uri": "https://localhost:8080/",
          "height": 296
        },
        "id": "NLAl_jBP2PmK",
        "outputId": "0a6dd27b-b309-4e85-c13e-38ab86287c3a"
      },
      "source": [
        "sns.countplot(x='SibSp',data=titanic_df,palette='rocket')"
      ],
      "execution_count": 10,
      "outputs": [
        {
          "output_type": "execute_result",
          "data": {
            "text/plain": [
              "<matplotlib.axes._subplots.AxesSubplot at 0x7fd6205e8b70>"
            ]
          },
          "metadata": {
            "tags": []
          },
          "execution_count": 10
        },
        {
          "output_type": "display_data",
          "data": {
            "image/png": "[encoded data removed]",
            "text/plain": [
              "<Figure size 432x288 with 1 Axes>"
            ]
          },
          "metadata": {
            "tags": [],
            "needs_background": "light"
          }
        }
      ]
    },
    {
      "cell_type": "code",
      "metadata": {
        "colab": {
          "base_uri": "https://localhost:8080/",
          "height": 283
        },
        "id": "Cxw1dQVK2cGh",
        "outputId": "61dfbc48-6df8-4ea0-f6e8-fc06e5360adb"
      },
      "source": [
        "titanic_df['Parch'].plot.hist()"
      ],
      "execution_count": 11,
      "outputs": [
        {
          "output_type": "execute_result",
          "data": {
            "text/plain": [
              "<matplotlib.axes._subplots.AxesSubplot at 0x7fd62056ae48>"
            ]
          },
          "metadata": {
            "tags": []
          },
          "execution_count": 11
        },
        {
          "output_type": "display_data",
          "data": {
            "image/png": "[encoded data removed]",
            "text/plain": [
              "<Figure size 432x288 with 1 Axes>"
            ]
          },
          "metadata": {
            "tags": [],
            "needs_background": "light"
          }
        }
      ]
    },
    {
      "cell_type": "code",
      "metadata": {
        "colab": {
          "base_uri": "https://localhost:8080/",
          "height": 297
        },
        "id": "2sqe9__w2iw7",
        "outputId": "fb94783b-49bc-453c-cb61-c2dfc8119004"
      },
      "source": [
        "sns.countplot(x='Parch',data=titanic_df,palette='summer')"
      ],
      "execution_count": 12,
      "outputs": [
        {
          "output_type": "execute_result",
          "data": {
            "text/plain": [
              "<matplotlib.axes._subplots.AxesSubplot at 0x7fd62065a4a8>"
            ]
          },
          "metadata": {
            "tags": []
          },
          "execution_count": 12
        },
        {
          "output_type": "display_data",
          "data": {
            "image/png": "[encoded data removed]",
            "text/plain": [
              "<Figure size 432x288 with 1 Axes>"
            ]
          },
          "metadata": {
            "tags": [],
            "needs_background": "light"
          }
        }
      ]
    },
    {
      "cell_type": "code",
      "metadata": {
        "colab": {
          "base_uri": "https://localhost:8080/"
        },
        "id": "OJktIMLe2vLU",
        "outputId": "dd3aa5c6-2e6b-4bb1-b71c-8fdd7c4779d1"
      },
      "source": [
        "titanic_df.isnull().sum()"
      ],
      "execution_count": 13,
      "outputs": [
        {
          "output_type": "execute_result",
          "data": {
            "text/plain": [
              "PassengerId      0\n",
              "Survived         0\n",
              "Pclass           0\n",
              "Name             0\n",
              "Sex              0\n",
              "Age            177\n",
              "SibSp            0\n",
              "Parch            0\n",
              "Ticket           0\n",
              "Fare             0\n",
              "Cabin          687\n",
              "Embarked         2\n",
              "dtype: int64"
            ]
          },
          "metadata": {
            "tags": []
          },
          "execution_count": 13
        }
      ]
    },
    {
      "cell_type": "code",
      "metadata": {
        "colab": {
          "base_uri": "https://localhost:8080/",
          "height": 337
        },
        "id": "qP8pY_ut23hu",
        "outputId": "b1899ab7-53d1-4205-81d5-e48f62cb9736"
      },
      "source": [
        "sns.heatmap(titanic_df.isnull(),cmap='spring')"
      ],
      "execution_count": 14,
      "outputs": [
        {
          "output_type": "execute_result",
          "data": {
            "text/plain": [
              "<matplotlib.axes._subplots.AxesSubplot at 0x7fd6204c8b00>"
            ]
          },
          "metadata": {
            "tags": []
          },
          "execution_count": 14
        },
        {
          "output_type": "display_data",
          "data": {
            "image/png": "[encoded data removed]",
            "text/plain": [
              "<Figure size 432x288 with 2 Axes>"
            ]
          },
          "metadata": {
            "tags": [],
            "needs_background": "light"
          }
        }
      ]
    },
    {
      "cell_type": "code",
      "metadata": {
        "colab": {
          "base_uri": "https://localhost:8080/",
          "height": 296
        },
        "id": "YmnHbp583HFv",
        "outputId": "f56017c4-55f9-4678-9dbf-98136a8ff5c1"
      },
      "source": [
        "sns.boxplot(x='Pclass',y='Age',data=titanic_df)"
      ],
      "execution_count": 15,
      "outputs": [
        {
          "output_type": "execute_result",
          "data": {
            "text/plain": [
              "<matplotlib.axes._subplots.AxesSubplot at 0x7fd617bbf7b8>"
            ]
          },
          "metadata": {
            "tags": []
          },
          "execution_count": 15
        },
        {
          "output_type": "display_data",
          "data": {
            "image/png": "[encoded data removed]",
            "text/plain": [
              "<Figure size 432x288 with 1 Axes>"
            ]
          },
          "metadata": {
            "tags": [],
            "needs_background": "light"
          }
        }
      ]
    },
    {
      "cell_type": "markdown",
      "metadata": {
        "id": "x1BuXqbM9klG"
      },
      "source": [
        "***Data Wrangling means Cleaning the data,removing the null Values,\r\n",
        "dropping unwanted columnns,adding new ones if needed.***"
      ]
    },
    {
      "cell_type": "code",
      "metadata": {
        "colab": {
          "base_uri": "https://localhost:8080/",
          "height": 255
        },
        "id": "nOKIzZEN3Vob",
        "outputId": "8ed1ab05-42eb-4862-ded1-1459f82df74f"
      },
      "source": [
        "titanic_df.head()"
      ],
      "execution_count": 16,
      "outputs": [
        {
          "output_type": "execute_result",
          "data": {
            "text/html": [
              "<div>\n",
              "<style scoped>\n",
              "    .dataframe tbody tr th:only-of-type {\n",
              "        vertical-align: middle;\n",
              "    }\n",
              "\n",
              "    .dataframe tbody tr th {\n",
              "        vertical-align: top;\n",
              "    }\n",
              "\n",
              "    .dataframe thead th {\n",
              "        text-align: right;\n",
              "    }\n",
              "</style>\n",
              "<table border=\"1\" class=\"dataframe\">\n",
              "  <thead>\n",
              "    <tr style=\"text-align: right;\">\n",
              "      <th></th>\n",
              "      <th>PassengerId</th>\n",
              "      <th>Survived</th>\n",
              "      <th>Pclass</th>\n",
              "      <th>Name</th>\n",
              "      <th>Sex</th>\n",
              "      <th>Age</th>\n",
              "      <th>SibSp</th>\n",
              "      <th>Parch</th>\n",
              "      <th>Ticket</th>\n",
              "      <th>Fare</th>\n",
              "      <th>Cabin</th>\n",
              "      <th>Embarked</th>\n",
              "    </tr>\n",
              "  </thead>\n",
              "  <tbody>\n",
              "    <tr>\n",
              "      <th>0</th>\n",
              "      <td>1</td>\n",
              "      <td>0</td>\n",
              "      <td>3</td>\n",
              "      <td>Braund, Mr. Owen Harris</td>\n",
              "      <td>male</td>\n",
              "      <td>22.0</td>\n",
              "      <td>1</td>\n",
              "      <td>0</td>\n",
              "      <td>A/5 21171</td>\n",
              "      <td>7.2500</td>\n",
              "      <td>NaN</td>\n",
              "      <td>S</td>\n",
              "    </tr>\n",
              "    <tr>\n",
              "      <th>1</th>\n",
              "      <td>2</td>\n",
              "      <td>1</td>\n",
              "      <td>1</td>\n",
              "      <td>Cumings, Mrs. John Bradley (Florence Briggs Th...</td>\n",
              "      <td>female</td>\n",
              "      <td>38.0</td>\n",
              "      <td>1</td>\n",
              "      <td>0</td>\n",
              "      <td>PC 17599</td>\n",
              "      <td>71.2833</td>\n",
              "      <td>C85</td>\n",
              "      <td>C</td>\n",
              "    </tr>\n",
              "    <tr>\n",
              "      <th>2</th>\n",
              "      <td>3</td>\n",
              "      <td>1</td>\n",
              "      <td>3</td>\n",
              "      <td>Heikkinen, Miss. Laina</td>\n",
              "      <td>female</td>\n",
              "      <td>26.0</td>\n",
              "      <td>0</td>\n",
              "      <td>0</td>\n",
              "      <td>STON/O2. 3101282</td>\n",
              "      <td>7.9250</td>\n",
              "      <td>NaN</td>\n",
              "      <td>S</td>\n",
              "    </tr>\n",
              "    <tr>\n",
              "      <th>3</th>\n",
              "      <td>4</td>\n",
              "      <td>1</td>\n",
              "      <td>1</td>\n",
              "      <td>Futrelle, Mrs. Jacques Heath (Lily May Peel)</td>\n",
              "      <td>female</td>\n",
              "      <td>35.0</td>\n",
              "      <td>1</td>\n",
              "      <td>0</td>\n",
              "      <td>113803</td>\n",
              "      <td>53.1000</td>\n",
              "      <td>C123</td>\n",
              "      <td>S</td>\n",
              "    </tr>\n",
              "    <tr>\n",
              "      <th>4</th>\n",
              "      <td>5</td>\n",
              "      <td>0</td>\n",
              "      <td>3</td>\n",
              "      <td>Allen, Mr. William Henry</td>\n",
              "      <td>male</td>\n",
              "      <td>35.0</td>\n",
              "      <td>0</td>\n",
              "      <td>0</td>\n",
              "      <td>373450</td>\n",
              "      <td>8.0500</td>\n",
              "      <td>NaN</td>\n",
              "      <td>S</td>\n",
              "    </tr>\n",
              "  </tbody>\n",
              "</table>\n",
              "</div>"
            ],
            "text/plain": [
              "   PassengerId  Survived  Pclass  ...     Fare Cabin  Embarked\n",
              "0            1         0       3  ...   7.2500   NaN         S\n",
              "1            2         1       1  ...  71.2833   C85         C\n",
              "2            3         1       3  ...   7.9250   NaN         S\n",
              "3            4         1       1  ...  53.1000  C123         S\n",
              "4            5         0       3  ...   8.0500   NaN         S\n",
              "\n",
              "[5 rows x 12 columns]"
            ]
          },
          "metadata": {
            "tags": []
          },
          "execution_count": 16
        }
      ]
    },
    {
      "cell_type": "markdown",
      "metadata": {
        "id": "cJwyvoqg0lDv"
      },
      "source": [
        "***Drop unwanted Features***"
      ]
    },
    {
      "cell_type": "code",
      "metadata": {
        "id": "p8WsOAEy3czM"
      },
      "source": [
        "titanic_df.drop(['PassengerId','Name','SibSp','Parch','Ticket','Cabin','Embarked'],axis='columns',inplace=True)"
      ],
      "execution_count": 17,
      "outputs": []
    },
    {
      "cell_type": "code",
      "metadata": {
        "colab": {
          "base_uri": "https://localhost:8080/",
          "height": 204
        },
        "id": "7opMInKz3oEi",
        "outputId": "90c22219-82f2-4fc3-e754-8c0d18cf2a7c"
      },
      "source": [
        "titanic_df.head()"
      ],
      "execution_count": 18,
      "outputs": [
        {
          "output_type": "execute_result",
          "data": {
            "text/html": [
              "<div>\n",
              "<style scoped>\n",
              "    .dataframe tbody tr th:only-of-type {\n",
              "        vertical-align: middle;\n",
              "    }\n",
              "\n",
              "    .dataframe tbody tr th {\n",
              "        vertical-align: top;\n",
              "    }\n",
              "\n",
              "    .dataframe thead th {\n",
              "        text-align: right;\n",
              "    }\n",
              "</style>\n",
              "<table border=\"1\" class=\"dataframe\">\n",
              "  <thead>\n",
              "    <tr style=\"text-align: right;\">\n",
              "      <th></th>\n",
              "      <th>Survived</th>\n",
              "      <th>Pclass</th>\n",
              "      <th>Sex</th>\n",
              "      <th>Age</th>\n",
              "      <th>Fare</th>\n",
              "    </tr>\n",
              "  </thead>\n",
              "  <tbody>\n",
              "    <tr>\n",
              "      <th>0</th>\n",
              "      <td>0</td>\n",
              "      <td>3</td>\n",
              "      <td>male</td>\n",
              "      <td>22.0</td>\n",
              "      <td>7.2500</td>\n",
              "    </tr>\n",
              "    <tr>\n",
              "      <th>1</th>\n",
              "      <td>1</td>\n",
              "      <td>1</td>\n",
              "      <td>female</td>\n",
              "      <td>38.0</td>\n",
              "      <td>71.2833</td>\n",
              "    </tr>\n",
              "    <tr>\n",
              "      <th>2</th>\n",
              "      <td>1</td>\n",
              "      <td>3</td>\n",
              "      <td>female</td>\n",
              "      <td>26.0</td>\n",
              "      <td>7.9250</td>\n",
              "    </tr>\n",
              "    <tr>\n",
              "      <th>3</th>\n",
              "      <td>1</td>\n",
              "      <td>1</td>\n",
              "      <td>female</td>\n",
              "      <td>35.0</td>\n",
              "      <td>53.1000</td>\n",
              "    </tr>\n",
              "    <tr>\n",
              "      <th>4</th>\n",
              "      <td>0</td>\n",
              "      <td>3</td>\n",
              "      <td>male</td>\n",
              "      <td>35.0</td>\n",
              "      <td>8.0500</td>\n",
              "    </tr>\n",
              "  </tbody>\n",
              "</table>\n",
              "</div>"
            ],
            "text/plain": [
              "   Survived  Pclass     Sex   Age     Fare\n",
              "0         0       3    male  22.0   7.2500\n",
              "1         1       1  female  38.0  71.2833\n",
              "2         1       3  female  26.0   7.9250\n",
              "3         1       1  female  35.0  53.1000\n",
              "4         0       3    male  35.0   8.0500"
            ]
          },
          "metadata": {
            "tags": []
          },
          "execution_count": 18
        }
      ]
    },
    {
      "cell_type": "code",
      "metadata": {
        "id": "mFV_VQ2p3vk9"
      },
      "source": [
        "inputs = titanic_df.drop('Survived',axis='columns')"
      ],
      "execution_count": 19,
      "outputs": []
    },
    {
      "cell_type": "code",
      "metadata": {
        "id": "XW_kitZ635bX"
      },
      "source": [
        "target = titanic_df.Survived"
      ],
      "execution_count": 20,
      "outputs": []
    },
    {
      "cell_type": "code",
      "metadata": {
        "id": "KK18WlnT3-J5"
      },
      "source": [
        "inputs.Sex = inputs.Sex.map({'male': 1, 'female': 2})"
      ],
      "execution_count": 21,
      "outputs": []
    },
    {
      "cell_type": "code",
      "metadata": {
        "colab": {
          "base_uri": "https://localhost:8080/"
        },
        "id": "7F8gLkTm4FgZ",
        "outputId": "68646f4d-0bde-48c2-f85a-0684654355a5"
      },
      "source": [
        "inputs.Age[:10]"
      ],
      "execution_count": 22,
      "outputs": [
        {
          "output_type": "execute_result",
          "data": {
            "text/plain": [
              "0    22.0\n",
              "1    38.0\n",
              "2    26.0\n",
              "3    35.0\n",
              "4    35.0\n",
              "5     NaN\n",
              "6    54.0\n",
              "7     2.0\n",
              "8    27.0\n",
              "9    14.0\n",
              "Name: Age, dtype: float64"
            ]
          },
          "metadata": {
            "tags": []
          },
          "execution_count": 22
        }
      ]
    },
    {
      "cell_type": "code",
      "metadata": {
        "id": "hW4oC49w4IVf"
      },
      "source": [
        "inputs.Age = inputs.Age.fillna(inputs.Age.mean())"
      ],
      "execution_count": 23,
      "outputs": []
    },
    {
      "cell_type": "code",
      "metadata": {
        "colab": {
          "base_uri": "https://localhost:8080/",
          "height": 204
        },
        "id": "0uCKtgM24LaD",
        "outputId": "8784cb25-73d9-4ca2-906a-0395fad83bac"
      },
      "source": [
        "inputs.head()"
      ],
      "execution_count": 24,
      "outputs": [
        {
          "output_type": "execute_result",
          "data": {
            "text/html": [
              "<div>\n",
              "<style scoped>\n",
              "    .dataframe tbody tr th:only-of-type {\n",
              "        vertical-align: middle;\n",
              "    }\n",
              "\n",
              "    .dataframe tbody tr th {\n",
              "        vertical-align: top;\n",
              "    }\n",
              "\n",
              "    .dataframe thead th {\n",
              "        text-align: right;\n",
              "    }\n",
              "</style>\n",
              "<table border=\"1\" class=\"dataframe\">\n",
              "  <thead>\n",
              "    <tr style=\"text-align: right;\">\n",
              "      <th></th>\n",
              "      <th>Pclass</th>\n",
              "      <th>Sex</th>\n",
              "      <th>Age</th>\n",
              "      <th>Fare</th>\n",
              "    </tr>\n",
              "  </thead>\n",
              "  <tbody>\n",
              "    <tr>\n",
              "      <th>0</th>\n",
              "      <td>3</td>\n",
              "      <td>1</td>\n",
              "      <td>22.0</td>\n",
              "      <td>7.2500</td>\n",
              "    </tr>\n",
              "    <tr>\n",
              "      <th>1</th>\n",
              "      <td>1</td>\n",
              "      <td>2</td>\n",
              "      <td>38.0</td>\n",
              "      <td>71.2833</td>\n",
              "    </tr>\n",
              "    <tr>\n",
              "      <th>2</th>\n",
              "      <td>3</td>\n",
              "      <td>2</td>\n",
              "      <td>26.0</td>\n",
              "      <td>7.9250</td>\n",
              "    </tr>\n",
              "    <tr>\n",
              "      <th>3</th>\n",
              "      <td>1</td>\n",
              "      <td>2</td>\n",
              "      <td>35.0</td>\n",
              "      <td>53.1000</td>\n",
              "    </tr>\n",
              "    <tr>\n",
              "      <th>4</th>\n",
              "      <td>3</td>\n",
              "      <td>1</td>\n",
              "      <td>35.0</td>\n",
              "      <td>8.0500</td>\n",
              "    </tr>\n",
              "  </tbody>\n",
              "</table>\n",
              "</div>"
            ],
            "text/plain": [
              "   Pclass  Sex   Age     Fare\n",
              "0       3    1  22.0   7.2500\n",
              "1       1    2  38.0  71.2833\n",
              "2       3    2  26.0   7.9250\n",
              "3       1    2  35.0  53.1000\n",
              "4       3    1  35.0   8.0500"
            ]
          },
          "metadata": {
            "tags": []
          },
          "execution_count": 24
        }
      ]
    },
    {
      "cell_type": "markdown",
      "metadata": {
        "id": "fV-kwrWO_83M"
      },
      "source": [
        "***Split train and test datasets***"
      ]
    },
    {
      "cell_type": "code",
      "metadata": {
        "id": "yZUoOEPa4Q7V"
      },
      "source": [
        "from sklearn.model_selection import train_test_split\r\n",
        "X_train, X_test, y_train, y_test = train_test_split(inputs,target,test_size=0.2,random_state=1)"
      ],
      "execution_count": 25,
      "outputs": []
    },
    {
      "cell_type": "code",
      "metadata": {
        "colab": {
          "base_uri": "https://localhost:8080/"
        },
        "id": "UJxgzxHk4oAa",
        "outputId": "cc56885b-8d3f-46e4-fe5a-338d94c997d3"
      },
      "source": [
        "len(X_train)"
      ],
      "execution_count": 26,
      "outputs": [
        {
          "output_type": "execute_result",
          "data": {
            "text/plain": [
              "712"
            ]
          },
          "metadata": {
            "tags": []
          },
          "execution_count": 26
        }
      ]
    },
    {
      "cell_type": "code",
      "metadata": {
        "colab": {
          "base_uri": "https://localhost:8080/"
        },
        "id": "a463VtLy4rmg",
        "outputId": "e107a4c2-51d5-429c-c57d-cdd9cd002333"
      },
      "source": [
        "len(X_test)"
      ],
      "execution_count": 27,
      "outputs": [
        {
          "output_type": "execute_result",
          "data": {
            "text/plain": [
              "179"
            ]
          },
          "metadata": {
            "tags": []
          },
          "execution_count": 27
        }
      ]
    },
    {
      "cell_type": "markdown",
      "metadata": {
        "id": "9k2d3v6R0toF"
      },
      "source": [
        "***fit the DecisionTree model***"
      ]
    },
    {
      "cell_type": "code",
      "metadata": {
        "id": "bUY0nF9c4uIM"
      },
      "source": [
        "from sklearn import tree\r\n",
        "model = tree.DecisionTreeClassifier()"
      ],
      "execution_count": 29,
      "outputs": []
    },
    {
      "cell_type": "code",
      "metadata": {
        "colab": {
          "base_uri": "https://localhost:8080/"
        },
        "id": "ONIYfUsB4wuv",
        "outputId": "8c7d7243-e663-46d4-b44f-218c729f4ee1"
      },
      "source": [
        "model.fit(X_train,y_train)"
      ],
      "execution_count": 30,
      "outputs": [
        {
          "output_type": "execute_result",
          "data": {
            "text/plain": [
              "DecisionTreeClassifier(ccp_alpha=0.0, class_weight=None, criterion='gini',\n",
              "                       max_depth=None, max_features=None, max_leaf_nodes=None,\n",
              "                       min_impurity_decrease=0.0, min_impurity_split=None,\n",
              "                       min_samples_leaf=1, min_samples_split=2,\n",
              "                       min_weight_fraction_leaf=0.0, presort='deprecated',\n",
              "                       random_state=None, splitter='best')"
            ]
          },
          "metadata": {
            "tags": []
          },
          "execution_count": 30
        }
      ]
    },
    {
      "cell_type": "code",
      "metadata": {
        "colab": {
          "base_uri": "https://localhost:8080/"
        },
        "id": "vQKB7nEM4y5b",
        "outputId": "a5478981-f5da-4747-9f5b-381030812312"
      },
      "source": [
        "model.score(X_test,y_test)"
      ],
      "execution_count": 31,
      "outputs": [
        {
          "output_type": "execute_result",
          "data": {
            "text/plain": [
              "0.7486033519553073"
            ]
          },
          "metadata": {
            "tags": []
          },
          "execution_count": 31
        }
      ]
    },
    {
      "cell_type": "code",
      "metadata": {
        "colab": {
          "base_uri": "https://localhost:8080/"
        },
        "id": "ANHKovv41VwB",
        "outputId": "452efa4e-d4d0-4f22-a778-5b5c52fd5ec4"
      },
      "source": [
        "y_pred=model.predict(X_test)\r\n",
        "y_pred"
      ],
      "execution_count": 33,
      "outputs": [
        {
          "output_type": "execute_result",
          "data": {
            "text/plain": [
              "array([1, 0, 1, 0, 1, 0, 0, 1, 0, 1, 0, 0, 0, 0, 1, 0, 0, 0, 0, 1, 0, 0,\n",
              "       1, 0, 0, 0, 1, 1, 0, 1, 0, 1, 1, 0, 0, 0, 1, 0, 0, 0, 0, 0, 1, 0,\n",
              "       1, 0, 0, 0, 1, 1, 0, 1, 1, 0, 1, 1, 1, 0, 0, 0, 0, 0, 0, 0, 0, 0,\n",
              "       0, 0, 1, 0, 0, 0, 0, 0, 1, 0, 1, 0, 0, 1, 0, 0, 0, 0, 1, 1, 0, 0,\n",
              "       0, 1, 0, 0, 0, 1, 1, 0, 0, 1, 0, 0, 0, 0, 1, 0, 1, 0, 1, 1, 0, 0,\n",
              "       0, 1, 0, 0, 0, 0, 1, 0, 1, 0, 1, 0, 0, 0, 1, 1, 1, 0, 0, 0, 0, 0,\n",
              "       1, 0, 0, 1, 1, 0, 0, 0, 1, 0, 1, 0, 0, 0, 1, 0, 1, 0, 1, 0, 0, 1,\n",
              "       0, 1, 0, 0, 1, 0, 0, 0, 0, 1, 0, 0, 1, 0, 1, 0, 1, 0, 1, 0, 1, 0,\n",
              "       0, 0, 1])"
            ]
          },
          "metadata": {
            "tags": []
          },
          "execution_count": 33
        }
      ]
    },
    {
      "cell_type": "code",
      "metadata": {
        "colab": {
          "base_uri": "https://localhost:8080/"
        },
        "id": "X6hRYUUTy2Ql",
        "outputId": "a519d8d6-836e-4fd7-949c-143d1498dea1"
      },
      "source": [
        "#Accuray of the model \r\n",
        "from sklearn.metrics import accuracy_score \r\n",
        "print(\"Accuracy:\",accuracy_score(y_test, y_pred))"
      ],
      "execution_count": 34,
      "outputs": [
        {
          "output_type": "stream",
          "text": [
            "Accuracy: 0.7486033519553073\n"
          ],
          "name": "stdout"
        }
      ]
    },
    {
      "cell_type": "code",
      "metadata": {
        "colab": {
          "base_uri": "https://localhost:8080/",
          "height": 1000
        },
        "id": "XuHh4EJ2y9u9",
        "outputId": "4aa7a396-836f-4191-920c-bed99ab15e0d"
      },
      "source": [
        "#Tree plotting \r\n",
        "\r\n",
        "tree.plot_tree(model)"
      ],
      "execution_count": 35,
      "outputs": [
        {
          "output_type": "execute_result",
          "data": {
            "text/plain": [
              "[Text(170.02061665076337, 212.004, 'X[1] <= 1.5\\ngini = 0.47\\nsamples = 712\\nvalue = [443, 269]'),\n",
              " Text(61.46718750000001, 201.132, 'X[2] <= 13.0\\ngini = 0.3\\nsamples = 463\\nvalue = [378, 85]'),\n",
              " Text(10.22290076335878, 190.26, 'X[0] <= 2.5\\ngini = 0.458\\nsamples = 31\\nvalue = [11, 20]'),\n",
              " Text(7.667175572519085, 179.388, 'gini = 0.0\\nsamples = 11\\nvalue = [0, 11]'),\n",
              " Text(12.778625954198475, 179.388, 'X[3] <= 20.825\\ngini = 0.495\\nsamples = 20\\nvalue = [11, 9]'),\n",
              " Text(5.11145038167939, 168.516, 'X[2] <= 10.0\\ngini = 0.198\\nsamples = 9\\nvalue = [1, 8]'),\n",
              " Text(2.555725190839695, 157.644, 'gini = 0.0\\nsamples = 7\\nvalue = [0, 7]'),\n",
              " Text(7.667175572519085, 157.644, 'X[2] <= 11.5\\ngini = 0.5\\nsamples = 2\\nvalue = [1, 1]'),\n",
              " Text(5.11145038167939, 146.772, 'gini = 0.0\\nsamples = 1\\nvalue = [1, 0]'),\n",
              " Text(10.22290076335878, 146.772, 'gini = 0.0\\nsamples = 1\\nvalue = [0, 1]'),\n",
              " Text(20.44580152671756, 168.516, 'X[2] <= 3.5\\ngini = 0.165\\nsamples = 11\\nvalue = [10, 1]'),\n",
              " Text(17.890076335877865, 157.644, 'X[2] <= 2.5\\ngini = 0.375\\nsamples = 4\\nvalue = [3, 1]'),\n",
              " Text(15.33435114503817, 146.772, 'gini = 0.0\\nsamples = 3\\nvalue = [3, 0]'),\n",
              " Text(20.44580152671756, 146.772, 'gini = 0.0\\nsamples = 1\\nvalue = [0, 1]'),\n",
              " Text(23.001526717557255, 157.644, 'gini = 0.0\\nsamples = 7\\nvalue = [7, 0]'),\n",
              " Text(112.71147423664124, 190.26, 'X[0] <= 1.5\\ngini = 0.256\\nsamples = 432\\nvalue = [367, 65]'),\n",
              " Text(37.85667938931298, 179.388, 'X[3] <= 26.144\\ngini = 0.447\\nsamples = 95\\nvalue = [63, 32]'),\n",
              " Text(35.300954198473285, 168.516, 'gini = 0.0\\nsamples = 7\\nvalue = [7, 0]'),\n",
              " Text(40.412404580152675, 168.516, 'X[3] <= 26.469\\ngini = 0.463\\nsamples = 88\\nvalue = [56, 32]'),\n",
              " Text(37.85667938931298, 157.644, 'gini = 0.0\\nsamples = 3\\nvalue = [0, 3]'),\n",
              " Text(42.96812977099237, 157.644, 'X[3] <= 30.598\\ngini = 0.45\\nsamples = 85\\nvalue = [56, 29]'),\n",
              " Text(25.55725190839695, 146.772, 'X[2] <= 53.5\\ngini = 0.499\\nsamples = 25\\nvalue = [13, 12]'),\n",
              " Text(20.44580152671756, 135.9, 'X[3] <= 30.25\\ngini = 0.475\\nsamples = 18\\nvalue = [7, 11]'),\n",
              " Text(17.890076335877865, 125.02799999999999, 'X[2] <= 46.5\\ngini = 0.498\\nsamples = 15\\nvalue = [7, 8]'),\n",
              " Text(15.33435114503817, 114.156, 'X[2] <= 36.0\\ngini = 0.497\\nsamples = 13\\nvalue = [7, 6]'),\n",
              " Text(12.778625954198475, 103.28399999999999, 'X[2] <= 31.85\\ngini = 0.48\\nsamples = 10\\nvalue = [4, 6]'),\n",
              " Text(10.22290076335878, 92.412, 'X[3] <= 28.71\\ngini = 0.5\\nsamples = 8\\nvalue = [4, 4]'),\n",
              " Text(5.11145038167939, 81.53999999999999, 'X[3] <= 27.135\\ngini = 0.375\\nsamples = 4\\nvalue = [3, 1]'),\n",
              " Text(2.555725190839695, 70.668, 'gini = 0.5\\nsamples = 2\\nvalue = [1, 1]'),\n",
              " Text(7.667175572519085, 70.668, 'gini = 0.0\\nsamples = 2\\nvalue = [2, 0]'),\n",
              " Text(15.33435114503817, 81.53999999999999, 'X[2] <= 29.35\\ngini = 0.375\\nsamples = 4\\nvalue = [1, 3]'),\n",
              " Text(12.778625954198475, 70.668, 'X[2] <= 27.5\\ngini = 0.5\\nsamples = 2\\nvalue = [1, 1]'),\n",
              " Text(10.22290076335878, 59.79599999999999, 'gini = 0.0\\nsamples = 1\\nvalue = [0, 1]'),\n",
              " Text(15.33435114503817, 59.79599999999999, 'gini = 0.0\\nsamples = 1\\nvalue = [1, 0]'),\n",
              " Text(17.890076335877865, 70.668, 'gini = 0.0\\nsamples = 2\\nvalue = [0, 2]'),\n",
              " Text(15.33435114503817, 92.412, 'gini = 0.0\\nsamples = 2\\nvalue = [0, 2]'),\n",
              " Text(17.890076335877865, 103.28399999999999, 'gini = 0.0\\nsamples = 3\\nvalue = [3, 0]'),\n",
              " Text(20.44580152671756, 114.156, 'gini = 0.0\\nsamples = 2\\nvalue = [0, 2]'),\n",
              " Text(23.001526717557255, 125.02799999999999, 'gini = 0.0\\nsamples = 3\\nvalue = [0, 3]'),\n",
              " Text(30.66870229007634, 135.9, 'X[2] <= 72.5\\ngini = 0.245\\nsamples = 7\\nvalue = [6, 1]'),\n",
              " Text(28.112977099236645, 125.02799999999999, 'gini = 0.0\\nsamples = 6\\nvalue = [6, 0]'),\n",
              " Text(33.224427480916034, 125.02799999999999, 'gini = 0.0\\nsamples = 1\\nvalue = [0, 1]'),\n",
              " Text(60.37900763358779, 146.772, 'X[2] <= 60.5\\ngini = 0.406\\nsamples = 60\\nvalue = [43, 17]'),\n",
              " Text(57.823282442748095, 135.9, 'X[2] <= 30.35\\ngini = 0.431\\nsamples = 54\\nvalue = [37, 17]'),\n",
              " Text(38.335877862595424, 125.02799999999999, 'X[2] <= 17.5\\ngini = 0.298\\nsamples = 22\\nvalue = [18, 4]'),\n",
              " Text(35.78015267175573, 114.156, 'gini = 0.0\\nsamples = 1\\nvalue = [0, 1]'),\n",
              " Text(40.89160305343512, 114.156, 'X[3] <= 99.99\\ngini = 0.245\\nsamples = 21\\nvalue = [18, 3]'),\n",
              " Text(38.335877862595424, 103.28399999999999, 'X[3] <= 85.14\\ngini = 0.337\\nsamples = 14\\nvalue = [11, 3]'),\n",
              " Text(35.78015267175573, 92.412, 'X[2] <= 23.5\\ngini = 0.26\\nsamples = 13\\nvalue = [11, 2]'),\n",
              " Text(30.66870229007634, 81.53999999999999, 'X[2] <= 22.0\\ngini = 0.444\\nsamples = 3\\nvalue = [2, 1]'),\n",
              " Text(28.112977099236645, 70.668, 'gini = 0.0\\nsamples = 2\\nvalue = [2, 0]'),\n",
              " Text(33.224427480916034, 70.668, 'gini = 0.0\\nsamples = 1\\nvalue = [0, 1]'),\n",
              " Text(40.89160305343512, 81.53999999999999, 'X[3] <= 38.95\\ngini = 0.18\\nsamples = 10\\nvalue = [9, 1]'),\n",
              " Text(38.335877862595424, 70.668, 'X[3] <= 35.25\\ngini = 0.375\\nsamples = 4\\nvalue = [3, 1]'),\n",
              " Text(35.78015267175573, 59.79599999999999, 'gini = 0.0\\nsamples = 3\\nvalue = [3, 0]'),\n",
              " Text(40.89160305343512, 59.79599999999999, 'gini = 0.0\\nsamples = 1\\nvalue = [0, 1]'),\n",
              " Text(43.447328244274814, 70.668, 'gini = 0.0\\nsamples = 6\\nvalue = [6, 0]'),\n",
              " Text(40.89160305343512, 92.412, 'gini = 0.0\\nsamples = 1\\nvalue = [0, 1]'),\n",
              " Text(43.447328244274814, 103.28399999999999, 'gini = 0.0\\nsamples = 7\\nvalue = [7, 0]'),\n",
              " Text(77.31068702290077, 125.02799999999999, 'X[3] <= 115.442\\ngini = 0.482\\nsamples = 32\\nvalue = [19, 13]'),\n",
              " Text(70.28244274809161, 114.156, 'X[2] <= 58.0\\ngini = 0.459\\nsamples = 28\\nvalue = [18, 10]'),\n",
              " Text(67.72671755725192, 103.28399999999999, 'X[2] <= 43.0\\ngini = 0.444\\nsamples = 27\\nvalue = [18, 9]'),\n",
              " Text(56.22595419847329, 92.412, 'X[2] <= 36.5\\ngini = 0.5\\nsamples = 10\\nvalue = [5, 5]'),\n",
              " Text(51.1145038167939, 81.53999999999999, 'X[3] <= 53.748\\ngini = 0.375\\nsamples = 4\\nvalue = [3, 1]'),\n",
              " Text(48.558778625954204, 70.668, 'gini = 0.0\\nsamples = 2\\nvalue = [2, 0]'),\n",
              " Text(53.670229007633594, 70.668, 'X[3] <= 67.925\\ngini = 0.5\\nsamples = 2\\nvalue = [1, 1]'),\n",
              " Text(51.1145038167939, 59.79599999999999, 'gini = 0.0\\nsamples = 1\\nvalue = [0, 1]'),\n",
              " Text(56.22595419847329, 59.79599999999999, 'gini = 0.0\\nsamples = 1\\nvalue = [1, 0]'),\n",
              " Text(61.33740458015268, 81.53999999999999, 'X[3] <= 41.5\\ngini = 0.444\\nsamples = 6\\nvalue = [2, 4]'),\n",
              " Text(58.781679389312984, 70.668, 'gini = 0.0\\nsamples = 1\\nvalue = [0, 1]'),\n",
              " Text(63.893129770992374, 70.668, 'X[3] <= 52.277\\ngini = 0.48\\nsamples = 5\\nvalue = [2, 3]'),\n",
              " Text(61.33740458015268, 59.79599999999999, 'gini = 0.0\\nsamples = 1\\nvalue = [1, 0]'),\n",
              " Text(66.44885496183207, 59.79599999999999, 'X[3] <= 52.827\\ngini = 0.375\\nsamples = 4\\nvalue = [1, 3]'),\n",
              " Text(63.893129770992374, 48.92400000000001, 'gini = 0.0\\nsamples = 2\\nvalue = [0, 2]'),\n",
              " Text(69.00458015267176, 48.92400000000001, 'X[2] <= 37.5\\ngini = 0.5\\nsamples = 2\\nvalue = [1, 1]'),\n",
              " Text(66.44885496183207, 38.05199999999999, 'gini = 0.0\\nsamples = 1\\nvalue = [1, 0]'),\n",
              " Text(71.56030534351146, 38.05199999999999, 'gini = 0.0\\nsamples = 1\\nvalue = [0, 1]'),\n",
              " Text(79.22748091603054, 92.412, 'X[2] <= 47.5\\ngini = 0.36\\nsamples = 17\\nvalue = [13, 4]'),\n",
              " Text(76.67175572519085, 81.53999999999999, 'gini = 0.0\\nsamples = 7\\nvalue = [7, 0]'),\n",
              " Text(81.78320610687024, 81.53999999999999, 'X[2] <= 48.5\\ngini = 0.48\\nsamples = 10\\nvalue = [6, 4]'),\n",
              " Text(79.22748091603054, 70.668, 'gini = 0.0\\nsamples = 2\\nvalue = [0, 2]'),\n",
              " Text(84.33893129770993, 70.668, 'X[3] <= 97.765\\ngini = 0.375\\nsamples = 8\\nvalue = [6, 2]'),\n",
              " Text(81.78320610687024, 59.79599999999999, 'X[3] <= 83.196\\ngini = 0.444\\nsamples = 6\\nvalue = [4, 2]'),\n",
              " Text(79.22748091603054, 48.92400000000001, 'X[2] <= 55.0\\ngini = 0.32\\nsamples = 5\\nvalue = [4, 1]'),\n",
              " Text(76.67175572519085, 38.05199999999999, 'gini = 0.0\\nsamples = 3\\nvalue = [3, 0]'),\n",
              " Text(81.78320610687024, 38.05199999999999, 'X[3] <= 33.098\\ngini = 0.5\\nsamples = 2\\nvalue = [1, 1]'),\n",
              " Text(79.22748091603054, 27.180000000000007, 'gini = 0.0\\nsamples = 1\\nvalue = [1, 0]'),\n",
              " Text(84.33893129770993, 27.180000000000007, 'gini = 0.0\\nsamples = 1\\nvalue = [0, 1]'),\n",
              " Text(84.33893129770993, 48.92400000000001, 'gini = 0.0\\nsamples = 1\\nvalue = [0, 1]'),\n",
              " Text(86.89465648854963, 59.79599999999999, 'gini = 0.0\\nsamples = 2\\nvalue = [2, 0]'),\n",
              " Text(72.8381679389313, 103.28399999999999, 'gini = 0.0\\nsamples = 1\\nvalue = [0, 1]'),\n",
              " Text(84.33893129770993, 114.156, 'X[2] <= 37.0\\ngini = 0.375\\nsamples = 4\\nvalue = [1, 3]'),\n",
              " Text(81.78320610687024, 103.28399999999999, 'gini = 0.0\\nsamples = 2\\nvalue = [0, 2]'),\n",
              " Text(86.89465648854963, 103.28399999999999, 'X[2] <= 44.0\\ngini = 0.5\\nsamples = 2\\nvalue = [1, 1]'),\n",
              " Text(84.33893129770993, 92.412, 'gini = 0.0\\nsamples = 1\\nvalue = [1, 0]'),\n",
              " Text(89.45038167938932, 92.412, 'gini = 0.0\\nsamples = 1\\nvalue = [0, 1]'),\n",
              " Text(62.934732824427485, 135.9, 'gini = 0.0\\nsamples = 6\\nvalue = [6, 0]'),\n",
              " Text(187.5662690839695, 179.388, 'X[2] <= 32.25\\ngini = 0.177\\nsamples = 337\\nvalue = [304, 33]'),\n",
              " Text(161.72948473282446, 168.516, 'X[2] <= 30.75\\ngini = 0.199\\nsamples = 250\\nvalue = [222, 28]'),\n",
              " Text(129.22385496183207, 157.644, 'X[3] <= 7.24\\ngini = 0.157\\nsamples = 233\\nvalue = [213, 20]'),\n",
              " Text(107.34045801526719, 146.772, 'X[2] <= 27.75\\ngini = 0.25\\nsamples = 41\\nvalue = [35, 6]'),\n",
              " Text(102.2290076335878, 135.9, 'X[2] <= 19.5\\ngini = 0.388\\nsamples = 19\\nvalue = [14, 5]'),\n",
              " Text(99.6732824427481, 125.02799999999999, 'gini = 0.0\\nsamples = 6\\nvalue = [6, 0]'),\n",
              " Text(104.7847328244275, 125.02799999999999, 'X[2] <= 26.0\\ngini = 0.473\\nsamples = 13\\nvalue = [8, 5]'),\n",
              " Text(102.2290076335878, 114.156, 'X[3] <= 7.133\\ngini = 0.444\\nsamples = 12\\nvalue = [8, 4]'),\n",
              " Text(97.11755725190841, 103.28399999999999, 'X[3] <= 2.006\\ngini = 0.245\\nsamples = 7\\nvalue = [6, 1]'),\n",
              " Text(94.56183206106871, 92.412, 'gini = 0.0\\nsamples = 1\\nvalue = [0, 1]'),\n",
              " Text(99.6732824427481, 92.412, 'gini = 0.0\\nsamples = 6\\nvalue = [6, 0]'),\n",
              " Text(107.34045801526719, 103.28399999999999, 'X[2] <= 22.75\\ngini = 0.48\\nsamples = 5\\nvalue = [2, 3]'),\n",
              " Text(104.7847328244275, 92.412, 'gini = 0.0\\nsamples = 2\\nvalue = [0, 2]'),\n",
              " Text(109.89618320610688, 92.412, 'X[3] <= 7.183\\ngini = 0.444\\nsamples = 3\\nvalue = [2, 1]'),\n",
              " Text(107.34045801526719, 81.53999999999999, 'gini = 0.0\\nsamples = 1\\nvalue = [0, 1]'),\n",
              " Text(112.45190839694658, 81.53999999999999, 'gini = 0.0\\nsamples = 2\\nvalue = [2, 0]'),\n",
              " Text(107.34045801526719, 114.156, 'gini = 0.0\\nsamples = 1\\nvalue = [0, 1]'),\n",
              " Text(112.45190839694658, 135.9, 'X[3] <= 7.227\\ngini = 0.087\\nsamples = 22\\nvalue = [21, 1]'),\n",
              " Text(109.89618320610688, 125.02799999999999, 'gini = 0.0\\nsamples = 15\\nvalue = [15, 0]'),\n",
              " Text(115.00763358778627, 125.02799999999999, 'X[2] <= 29.1\\ngini = 0.245\\nsamples = 7\\nvalue = [6, 1]'),\n",
              " Text(112.45190839694658, 114.156, 'gini = 0.0\\nsamples = 1\\nvalue = [1, 0]'),\n",
              " Text(117.56335877862597, 114.156, 'X[2] <= 29.85\\ngini = 0.278\\nsamples = 6\\nvalue = [5, 1]'),\n",
              " Text(115.00763358778627, 103.28399999999999, 'gini = 0.32\\nsamples = 5\\nvalue = [4, 1]'),\n",
              " Text(120.11908396946566, 103.28399999999999, 'gini = 0.0\\nsamples = 1\\nvalue = [1, 0]'),\n",
              " Text(151.10725190839696, 146.772, 'X[3] <= 23.35\\ngini = 0.135\\nsamples = 192\\nvalue = [178, 14]'),\n",
              " Text(148.55152671755727, 135.9, 'X[3] <= 22.887\\ngini = 0.15\\nsamples = 171\\nvalue = [157, 14]'),\n",
              " Text(145.99580152671757, 125.02799999999999, 'X[2] <= 20.25\\ngini = 0.141\\nsamples = 170\\nvalue = [157, 13]'),\n",
              " Text(132.89770992366414, 114.156, 'X[3] <= 8.104\\ngini = 0.239\\nsamples = 36\\nvalue = [31, 5]'),\n",
              " Text(125.23053435114505, 103.28399999999999, 'X[3] <= 7.91\\ngini = 0.375\\nsamples = 16\\nvalue = [12, 4]'),\n",
              " Text(122.67480916030536, 92.412, 'gini = 0.0\\nsamples = 9\\nvalue = [9, 0]'),\n",
              " Text(127.78625954198475, 92.412, 'X[2] <= 18.5\\ngini = 0.49\\nsamples = 7\\nvalue = [3, 4]'),\n",
              " Text(125.23053435114505, 81.53999999999999, 'gini = 0.0\\nsamples = 2\\nvalue = [0, 2]'),\n",
              " Text(130.34198473282444, 81.53999999999999, 'X[3] <= 7.988\\ngini = 0.48\\nsamples = 5\\nvalue = [3, 2]'),\n",
              " Text(127.78625954198475, 70.668, 'gini = 0.5\\nsamples = 2\\nvalue = [1, 1]'),\n",
              " Text(132.89770992366414, 70.668, 'X[2] <= 19.5\\ngini = 0.444\\nsamples = 3\\nvalue = [2, 1]'),\n",
              " Text(130.34198473282444, 59.79599999999999, 'gini = 0.5\\nsamples = 2\\nvalue = [1, 1]'),\n",
              " Text(135.45343511450383, 59.79599999999999, 'gini = 0.0\\nsamples = 1\\nvalue = [1, 0]'),\n",
              " Text(140.56488549618322, 103.28399999999999, 'X[0] <= 2.5\\ngini = 0.095\\nsamples = 20\\nvalue = [19, 1]'),\n",
              " Text(138.00916030534353, 92.412, 'X[3] <= 11.0\\ngini = 0.375\\nsamples = 4\\nvalue = [3, 1]'),\n",
              " Text(135.45343511450383, 81.53999999999999, 'gini = 0.0\\nsamples = 1\\nvalue = [0, 1]'),\n",
              " Text(140.56488549618322, 81.53999999999999, 'gini = 0.0\\nsamples = 3\\nvalue = [3, 0]'),\n",
              " Text(143.12061068702292, 92.412, 'gini = 0.0\\nsamples = 16\\nvalue = [16, 0]'),\n",
              " Text(159.093893129771, 114.156, 'X[2] <= 26.5\\ngini = 0.112\\nsamples = 134\\nvalue = [126, 8]'),\n",
              " Text(150.787786259542, 103.28399999999999, 'X[2] <= 21.5\\ngini = 0.04\\nsamples = 49\\nvalue = [48, 1]'),\n",
              " Text(148.2320610687023, 92.412, 'X[3] <= 7.798\\ngini = 0.142\\nsamples = 13\\nvalue = [12, 1]'),\n",
              " Text(145.6763358778626, 81.53999999999999, 'X[3] <= 7.785\\ngini = 0.375\\nsamples = 4\\nvalue = [3, 1]'),\n",
              " Text(143.12061068702292, 70.668, 'gini = 0.0\\nsamples = 3\\nvalue = [3, 0]'),\n",
              " Text(148.2320610687023, 70.668, 'gini = 0.0\\nsamples = 1\\nvalue = [0, 1]'),\n",
              " Text(150.787786259542, 81.53999999999999, 'gini = 0.0\\nsamples = 9\\nvalue = [9, 0]'),\n",
              " Text(153.3435114503817, 92.412, 'gini = 0.0\\nsamples = 36\\nvalue = [36, 0]'),\n",
              " Text(167.40000000000003, 103.28399999999999, 'X[2] <= 29.35\\ngini = 0.151\\nsamples = 85\\nvalue = [78, 7]'),\n",
              " Text(161.01068702290078, 92.412, 'X[2] <= 28.75\\ngini = 0.255\\nsamples = 20\\nvalue = [17, 3]'),\n",
              " Text(155.8992366412214, 81.53999999999999, 'X[3] <= 7.825\\ngini = 0.111\\nsamples = 17\\nvalue = [16, 1]'),\n",
              " Text(153.3435114503817, 70.668, 'X[2] <= 27.5\\ngini = 0.5\\nsamples = 2\\nvalue = [1, 1]'),\n",
              " Text(150.787786259542, 59.79599999999999, 'gini = 0.0\\nsamples = 1\\nvalue = [0, 1]'),\n",
              " Text(155.8992366412214, 59.79599999999999, 'gini = 0.0\\nsamples = 1\\nvalue = [1, 0]'),\n",
              " Text(158.4549618320611, 70.668, 'gini = 0.0\\nsamples = 15\\nvalue = [15, 0]'),\n",
              " Text(166.12213740458017, 81.53999999999999, 'X[3] <= 7.763\\ngini = 0.444\\nsamples = 3\\nvalue = [1, 2]'),\n",
              " Text(163.56641221374048, 70.668, 'gini = 0.0\\nsamples = 1\\nvalue = [0, 1]'),\n",
              " Text(168.67786259541987, 70.668, 'X[3] <= 7.835\\ngini = 0.5\\nsamples = 2\\nvalue = [1, 1]'),\n",
              " Text(166.12213740458017, 59.79599999999999, 'gini = 0.0\\nsamples = 1\\nvalue = [1, 0]'),\n",
              " Text(171.23358778625956, 59.79599999999999, 'gini = 0.0\\nsamples = 1\\nvalue = [0, 1]'),\n",
              " Text(173.78931297709926, 92.412, 'X[3] <= 8.081\\ngini = 0.116\\nsamples = 65\\nvalue = [61, 4]'),\n",
              " Text(171.23358778625956, 81.53999999999999, 'gini = 0.0\\nsamples = 43\\nvalue = [43, 0]'),\n",
              " Text(176.34503816793895, 81.53999999999999, 'X[3] <= 8.285\\ngini = 0.298\\nsamples = 22\\nvalue = [18, 4]'),\n",
              " Text(173.78931297709926, 70.668, 'gini = 0.0\\nsamples = 1\\nvalue = [0, 1]'),\n",
              " Text(178.90076335877865, 70.668, 'X[3] <= 15.373\\ngini = 0.245\\nsamples = 21\\nvalue = [18, 3]'),\n",
              " Text(176.34503816793895, 59.79599999999999, 'X[3] <= 15.173\\ngini = 0.355\\nsamples = 13\\nvalue = [10, 3]'),\n",
              " Text(173.78931297709926, 48.92400000000001, 'X[3] <= 14.16\\ngini = 0.278\\nsamples = 12\\nvalue = [10, 2]'),\n",
              " Text(171.23358778625956, 38.05199999999999, 'X[3] <= 13.431\\ngini = 0.375\\nsamples = 8\\nvalue = [6, 2]'),\n",
              " Text(168.67786259541987, 27.180000000000007, 'X[0] <= 2.5\\ngini = 0.245\\nsamples = 7\\nvalue = [6, 1]'),\n",
              " Text(166.12213740458017, 16.307999999999993, 'gini = 0.0\\nsamples = 4\\nvalue = [4, 0]'),\n",
              " Text(171.23358778625956, 16.307999999999993, 'X[3] <= 9.081\\ngini = 0.444\\nsamples = 3\\nvalue = [2, 1]'),\n",
              " Text(168.67786259541987, 5.436000000000007, 'gini = 0.0\\nsamples = 2\\nvalue = [2, 0]'),\n",
              " Text(173.78931297709926, 5.436000000000007, 'gini = 0.0\\nsamples = 1\\nvalue = [0, 1]'),\n",
              " Text(173.78931297709926, 27.180000000000007, 'gini = 0.0\\nsamples = 1\\nvalue = [0, 1]'),\n",
              " Text(176.34503816793895, 38.05199999999999, 'gini = 0.0\\nsamples = 4\\nvalue = [4, 0]'),\n",
              " Text(178.90076335877865, 48.92400000000001, 'gini = 0.0\\nsamples = 1\\nvalue = [0, 1]'),\n",
              " Text(181.45648854961834, 59.79599999999999, 'gini = 0.0\\nsamples = 8\\nvalue = [8, 0]'),\n",
              " Text(151.10725190839696, 125.02799999999999, 'gini = 0.0\\nsamples = 1\\nvalue = [0, 1]'),\n",
              " Text(153.66297709923666, 135.9, 'gini = 0.0\\nsamples = 21\\nvalue = [21, 0]'),\n",
              " Text(194.23511450381682, 157.644, 'X[3] <= 7.815\\ngini = 0.498\\nsamples = 17\\nvalue = [9, 8]'),\n",
              " Text(191.67938931297712, 146.772, 'gini = 0.0\\nsamples = 3\\nvalue = [3, 0]'),\n",
              " Text(196.7908396946565, 146.772, 'X[3] <= 64.998\\ngini = 0.49\\nsamples = 14\\nvalue = [6, 8]'),\n",
              " Text(194.23511450381682, 135.9, 'X[3] <= 41.373\\ngini = 0.473\\nsamples = 13\\nvalue = [5, 8]'),\n",
              " Text(191.67938931297712, 125.02799999999999, 'X[3] <= 26.125\\ngini = 0.496\\nsamples = 11\\nvalue = [5, 6]'),\n",
              " Text(189.12366412213743, 114.156, 'X[2] <= 31.5\\ngini = 0.48\\nsamples = 10\\nvalue = [4, 6]'),\n",
              " Text(186.56793893129773, 103.28399999999999, 'gini = 0.0\\nsamples = 2\\nvalue = [0, 2]'),\n",
              " Text(191.67938931297712, 103.28399999999999, 'X[3] <= 7.875\\ngini = 0.5\\nsamples = 8\\nvalue = [4, 4]'),\n",
              " Text(189.12366412213743, 92.412, 'gini = 0.0\\nsamples = 1\\nvalue = [0, 1]'),\n",
              " Text(194.23511450381682, 92.412, 'X[3] <= 20.925\\ngini = 0.49\\nsamples = 7\\nvalue = [4, 3]'),\n",
              " Text(191.67938931297712, 81.53999999999999, 'X[3] <= 9.275\\ngini = 0.444\\nsamples = 6\\nvalue = [4, 2]'),\n",
              " Text(189.12366412213743, 70.668, 'X[3] <= 7.91\\ngini = 0.5\\nsamples = 4\\nvalue = [2, 2]'),\n",
              " Text(186.56793893129773, 59.79599999999999, 'gini = 0.0\\nsamples = 1\\nvalue = [1, 0]'),\n",
              " Text(191.67938931297712, 59.79599999999999, 'X[3] <= 7.988\\ngini = 0.444\\nsamples = 3\\nvalue = [1, 2]'),\n",
              " Text(189.12366412213743, 48.92400000000001, 'gini = 0.5\\nsamples = 2\\nvalue = [1, 1]'),\n",
              " Text(194.23511450381682, 48.92400000000001, 'gini = 0.0\\nsamples = 1\\nvalue = [0, 1]'),\n",
              " Text(194.23511450381682, 70.668, 'gini = 0.0\\nsamples = 2\\nvalue = [2, 0]'),\n",
              " Text(196.7908396946565, 81.53999999999999, 'gini = 0.0\\nsamples = 1\\nvalue = [0, 1]'),\n",
              " Text(194.23511450381682, 114.156, 'gini = 0.0\\nsamples = 1\\nvalue = [1, 0]'),\n",
              " Text(196.7908396946565, 125.02799999999999, 'gini = 0.0\\nsamples = 2\\nvalue = [0, 2]'),\n",
              " Text(199.3465648854962, 135.9, 'gini = 0.0\\nsamples = 1\\nvalue = [1, 0]'),\n",
              " Text(213.40305343511454, 168.516, 'X[3] <= 13.25\\ngini = 0.108\\nsamples = 87\\nvalue = [82, 5]'),\n",
              " Text(210.84732824427482, 157.644, 'X[3] <= 7.91\\ngini = 0.15\\nsamples = 61\\nvalue = [56, 5]'),\n",
              " Text(208.29160305343515, 146.772, 'gini = 0.0\\nsamples = 24\\nvalue = [24, 0]'),\n",
              " Text(213.40305343511454, 146.772, 'X[2] <= 38.5\\ngini = 0.234\\nsamples = 37\\nvalue = [32, 5]'),\n",
              " Text(204.4580152671756, 135.9, 'X[3] <= 12.938\\ngini = 0.117\\nsamples = 16\\nvalue = [15, 1]'),\n",
              " Text(201.9022900763359, 125.02799999999999, 'gini = 0.0\\nsamples = 12\\nvalue = [12, 0]'),\n",
              " Text(207.0137404580153, 125.02799999999999, 'X[2] <= 35.0\\ngini = 0.375\\nsamples = 4\\nvalue = [3, 1]'),\n",
              " Text(204.4580152671756, 114.156, 'gini = 0.444\\nsamples = 3\\nvalue = [2, 1]'),\n",
              " Text(209.569465648855, 114.156, 'gini = 0.0\\nsamples = 1\\nvalue = [1, 0]'),\n",
              " Text(222.34809160305346, 135.9, 'X[2] <= 46.0\\ngini = 0.308\\nsamples = 21\\nvalue = [17, 4]'),\n",
              " Text(217.23664122137407, 125.02799999999999, 'X[2] <= 44.5\\ngini = 0.42\\nsamples = 10\\nvalue = [7, 3]'),\n",
              " Text(214.68091603053438, 114.156, 'X[2] <= 42.5\\ngini = 0.346\\nsamples = 9\\nvalue = [7, 2]'),\n",
              " Text(212.12519083969468, 103.28399999999999, 'X[3] <= 8.165\\ngini = 0.444\\nsamples = 6\\nvalue = [4, 2]'),\n",
              " Text(209.569465648855, 92.412, 'gini = 0.5\\nsamples = 2\\nvalue = [1, 1]'),\n",
              " Text(214.68091603053438, 92.412, 'X[0] <= 2.5\\ngini = 0.375\\nsamples = 4\\nvalue = [3, 1]'),\n",
              " Text(212.12519083969468, 81.53999999999999, 'X[2] <= 40.5\\ngini = 0.444\\nsamples = 3\\nvalue = [2, 1]'),\n",
              " Text(209.569465648855, 70.668, 'gini = 0.0\\nsamples = 1\\nvalue = [1, 0]'),\n",
              " Text(214.68091603053438, 70.668, 'gini = 0.5\\nsamples = 2\\nvalue = [1, 1]'),\n",
              " Text(217.23664122137407, 81.53999999999999, 'gini = 0.0\\nsamples = 1\\nvalue = [1, 0]'),\n",
              " Text(217.23664122137407, 103.28399999999999, 'gini = 0.0\\nsamples = 3\\nvalue = [3, 0]'),\n",
              " Text(219.79236641221377, 114.156, 'gini = 0.0\\nsamples = 1\\nvalue = [0, 1]'),\n",
              " Text(227.45954198473285, 125.02799999999999, 'X[2] <= 59.5\\ngini = 0.165\\nsamples = 11\\nvalue = [10, 1]'),\n",
              " Text(224.90381679389316, 114.156, 'gini = 0.0\\nsamples = 8\\nvalue = [8, 0]'),\n",
              " Text(230.01526717557255, 114.156, 'X[2] <= 64.0\\ngini = 0.444\\nsamples = 3\\nvalue = [2, 1]'),\n",
              " Text(227.45954198473285, 103.28399999999999, 'gini = 0.0\\nsamples = 1\\nvalue = [0, 1]'),\n",
              " Text(232.57099236641224, 103.28399999999999, 'gini = 0.0\\nsamples = 2\\nvalue = [2, 0]'),\n",
              " Text(215.9587786259542, 157.644, 'gini = 0.0\\nsamples = 26\\nvalue = [26, 0]'),\n",
              " Text(278.5740458015267, 201.132, 'X[0] <= 2.5\\ngini = 0.386\\nsamples = 249\\nvalue = [65, 184]'),\n",
              " Text(251.73893129770994, 190.26, 'X[2] <= 2.5\\ngini = 0.096\\nsamples = 139\\nvalue = [7, 132]'),\n",
              " Text(246.62748091603055, 179.388, 'X[0] <= 1.5\\ngini = 0.5\\nsamples = 2\\nvalue = [1, 1]'),\n",
              " Text(244.07175572519088, 168.516, 'gini = 0.0\\nsamples = 1\\nvalue = [1, 0]'),\n",
              " Text(249.18320610687027, 168.516, 'gini = 0.0\\nsamples = 1\\nvalue = [0, 1]'),\n",
              " Text(256.85038167938933, 179.388, 'X[3] <= 28.856\\ngini = 0.084\\nsamples = 137\\nvalue = [6, 131]'),\n",
              " Text(254.29465648854966, 168.516, 'X[3] <= 28.231\\ngini = 0.198\\nsamples = 54\\nvalue = [6, 48]'),\n",
              " Text(251.73893129770994, 157.644, 'X[2] <= 27.5\\ngini = 0.171\\nsamples = 53\\nvalue = [5, 48]'),\n",
              " Text(245.34961832061072, 146.772, 'X[2] <= 25.5\\ngini = 0.278\\nsamples = 18\\nvalue = [3, 15]'),\n",
              " Text(240.23816793893133, 135.9, 'X[3] <= 13.75\\ngini = 0.124\\nsamples = 15\\nvalue = [1, 14]'),\n",
              " Text(237.68244274809163, 125.02799999999999, 'X[2] <= 21.0\\ngini = 0.375\\nsamples = 4\\nvalue = [1, 3]'),\n",
              " Text(235.12671755725194, 114.156, 'gini = 0.0\\nsamples = 2\\nvalue = [0, 2]'),\n",
              " Text(240.23816793893133, 114.156, 'gini = 0.5\\nsamples = 2\\nvalue = [1, 1]'),\n",
              " Text(242.79389312977102, 125.02799999999999, 'gini = 0.0\\nsamples = 11\\nvalue = [0, 11]'),\n",
              " Text(250.4610687022901, 135.9, 'X[3] <= 15.75\\ngini = 0.444\\nsamples = 3\\nvalue = [2, 1]'),\n",
              " Text(247.9053435114504, 125.02799999999999, 'gini = 0.0\\nsamples = 1\\nvalue = [0, 1]'),\n",
              " Text(253.0167938931298, 125.02799999999999, 'gini = 0.0\\nsamples = 2\\nvalue = [2, 0]'),\n",
              " Text(258.12824427480916, 146.772, 'X[2] <= 37.0\\ngini = 0.108\\nsamples = 35\\nvalue = [2, 33]'),\n",
              " Text(255.5725190839695, 135.9, 'gini = 0.0\\nsamples = 20\\nvalue = [0, 20]'),\n",
              " Text(260.6839694656489, 135.9, 'X[2] <= 39.0\\ngini = 0.231\\nsamples = 15\\nvalue = [2, 13]'),\n",
              " Text(258.12824427480916, 125.02799999999999, 'gini = 0.0\\nsamples = 1\\nvalue = [1, 0]'),\n",
              " Text(263.2396946564886, 125.02799999999999, 'X[2] <= 44.5\\ngini = 0.133\\nsamples = 14\\nvalue = [1, 13]'),\n",
              " Text(260.6839694656489, 114.156, 'X[2] <= 43.0\\ngini = 0.278\\nsamples = 6\\nvalue = [1, 5]'),\n",
              " Text(258.12824427480916, 103.28399999999999, 'gini = 0.0\\nsamples = 4\\nvalue = [0, 4]'),\n",
              " Text(263.2396946564886, 103.28399999999999, 'X[0] <= 1.5\\ngini = 0.5\\nsamples = 2\\nvalue = [1, 1]'),\n",
              " Text(260.6839694656489, 92.412, 'gini = 0.0\\nsamples = 1\\nvalue = [0, 1]'),\n",
              " Text(265.7954198473283, 92.412, 'gini = 0.0\\nsamples = 1\\nvalue = [1, 0]'),\n",
              " Text(265.7954198473283, 114.156, 'gini = 0.0\\nsamples = 8\\nvalue = [0, 8]'),\n",
              " Text(256.85038167938933, 157.644, 'gini = 0.0\\nsamples = 1\\nvalue = [1, 0]'),\n",
              " Text(259.40610687022905, 168.516, 'gini = 0.0\\nsamples = 83\\nvalue = [0, 83]'),\n",
              " Text(305.40916030534356, 190.26, 'X[3] <= 23.35\\ngini = 0.499\\nsamples = 110\\nvalue = [58, 52]'),\n",
              " Text(288.7969465648855, 179.388, 'X[2] <= 36.5\\ngini = 0.492\\nsamples = 89\\nvalue = [39, 50]'),\n",
              " Text(278.5740458015267, 168.516, 'X[2] <= 6.5\\ngini = 0.481\\nsamples = 82\\nvalue = [33, 49]'),\n",
              " Text(265.7954198473283, 157.644, 'X[3] <= 20.167\\ngini = 0.219\\nsamples = 8\\nvalue = [1, 7]'),\n",
              " Text(263.2396946564886, 146.772, 'gini = 0.0\\nsamples = 6\\nvalue = [0, 6]'),\n",
              " Text(268.35114503816794, 146.772, 'X[3] <= 21.55\\ngini = 0.5\\nsamples = 2\\nvalue = [1, 1]'),\n",
              " Text(265.7954198473283, 135.9, 'gini = 0.0\\nsamples = 1\\nvalue = [1, 0]'),\n",
              " Text(270.90687022900767, 135.9, 'gini = 0.0\\nsamples = 1\\nvalue = [0, 1]'),\n",
              " Text(291.3526717557252, 157.644, 'X[3] <= 7.888\\ngini = 0.491\\nsamples = 74\\nvalue = [32, 42]'),\n",
              " Text(278.5740458015267, 146.772, 'X[2] <= 30.1\\ngini = 0.438\\nsamples = 34\\nvalue = [11, 23]'),\n",
              " Text(276.01832061068706, 135.9, 'X[3] <= 6.987\\ngini = 0.404\\nsamples = 32\\nvalue = [9, 23]'),\n",
              " Text(273.4625954198474, 125.02799999999999, 'gini = 0.0\\nsamples = 1\\nvalue = [1, 0]'),\n",
              " Text(278.5740458015267, 125.02799999999999, 'X[3] <= 7.523\\ngini = 0.383\\nsamples = 31\\nvalue = [8, 23]'),\n",
              " Text(276.01832061068706, 114.156, 'gini = 0.0\\nsamples = 5\\nvalue = [0, 5]'),\n",
              " Text(281.12977099236645, 114.156, 'X[3] <= 7.681\\ngini = 0.426\\nsamples = 26\\nvalue = [8, 18]'),\n",
              " Text(278.5740458015267, 103.28399999999999, 'gini = 0.0\\nsamples = 2\\nvalue = [2, 0]'),\n",
              " Text(283.68549618320617, 103.28399999999999, 'X[2] <= 15.0\\ngini = 0.375\\nsamples = 24\\nvalue = [6, 18]'),\n",
              " Text(281.12977099236645, 92.412, 'gini = 0.0\\nsamples = 1\\nvalue = [1, 0]'),\n",
              " Text(286.24122137404584, 92.412, 'X[3] <= 7.781\\ngini = 0.34\\nsamples = 23\\nvalue = [5, 18]'),\n",
              " Text(283.68549618320617, 81.53999999999999, 'X[3] <= 7.763\\ngini = 0.444\\nsamples = 15\\nvalue = [5, 10]'),\n",
              " Text(281.12977099236645, 70.668, 'X[3] <= 7.744\\ngini = 0.355\\nsamples = 13\\nvalue = [3, 10]'),\n",
              " Text(278.5740458015267, 59.79599999999999, 'gini = 0.0\\nsamples = 3\\nvalue = [0, 3]'),\n",
              " Text(283.68549618320617, 59.79599999999999, 'X[2] <= 18.5\\ngini = 0.42\\nsamples = 10\\nvalue = [3, 7]'),\n",
              " Text(281.12977099236645, 48.92400000000001, 'gini = 0.0\\nsamples = 1\\nvalue = [0, 1]'),\n",
              " Text(286.24122137404584, 48.92400000000001, 'X[2] <= 21.5\\ngini = 0.444\\nsamples = 9\\nvalue = [3, 6]'),\n",
              " Text(283.68549618320617, 38.05199999999999, 'gini = 0.0\\nsamples = 1\\nvalue = [1, 0]'),\n",
              " Text(288.7969465648855, 38.05199999999999, 'X[2] <= 25.85\\ngini = 0.375\\nsamples = 8\\nvalue = [2, 6]'),\n",
              " Text(286.24122137404584, 27.180000000000007, 'gini = 0.0\\nsamples = 1\\nvalue = [0, 1]'),\n",
              " Text(291.3526717557252, 27.180000000000007, 'gini = 0.408\\nsamples = 7\\nvalue = [2, 5]'),\n",
              " Text(286.24122137404584, 70.668, 'gini = 0.0\\nsamples = 2\\nvalue = [2, 0]'),\n",
              " Text(288.7969465648855, 81.53999999999999, 'gini = 0.0\\nsamples = 8\\nvalue = [0, 8]'),\n",
              " Text(281.12977099236645, 135.9, 'gini = 0.0\\nsamples = 2\\nvalue = [2, 0]'),\n",
              " Text(304.13129770992373, 146.772, 'X[3] <= 15.373\\ngini = 0.499\\nsamples = 40\\nvalue = [21, 19]'),\n",
              " Text(293.90839694656495, 135.9, 'X[2] <= 19.0\\ngini = 0.434\\nsamples = 22\\nvalue = [15, 7]'),\n",
              " Text(288.7969465648855, 125.02799999999999, 'X[3] <= 12.85\\ngini = 0.408\\nsamples = 7\\nvalue = [2, 5]'),\n",
              " Text(286.24122137404584, 114.156, 'gini = 0.0\\nsamples = 5\\nvalue = [0, 5]'),\n",
              " Text(291.3526717557252, 114.156, 'gini = 0.0\\nsamples = 2\\nvalue = [2, 0]'),\n",
              " Text(299.0198473282443, 125.02799999999999, 'X[3] <= 11.469\\ngini = 0.231\\nsamples = 15\\nvalue = [13, 2]'),\n",
              " Text(296.4641221374046, 114.156, 'gini = 0.0\\nsamples = 9\\nvalue = [9, 0]'),\n",
              " Text(301.575572519084, 114.156, 'X[3] <= 13.438\\ngini = 0.444\\nsamples = 6\\nvalue = [4, 2]'),\n",
              " Text(299.0198473282443, 103.28399999999999, 'gini = 0.0\\nsamples = 2\\nvalue = [0, 2]'),\n",
              " Text(304.13129770992373, 103.28399999999999, 'gini = 0.0\\nsamples = 4\\nvalue = [4, 0]'),\n",
              " Text(314.3541984732825, 135.9, 'X[2] <= 21.0\\ngini = 0.444\\nsamples = 18\\nvalue = [6, 12]'),\n",
              " Text(311.7984732824428, 125.02799999999999, 'gini = 0.0\\nsamples = 2\\nvalue = [2, 0]'),\n",
              " Text(316.9099236641222, 125.02799999999999, 'X[2] <= 29.35\\ngini = 0.375\\nsamples = 16\\nvalue = [4, 12]'),\n",
              " Text(311.7984732824428, 114.156, 'X[2] <= 25.0\\ngini = 0.5\\nsamples = 4\\nvalue = [2, 2]'),\n",
              " Text(309.24274809160306, 103.28399999999999, 'gini = 0.0\\nsamples = 2\\nvalue = [0, 2]'),\n",
              " Text(314.3541984732825, 103.28399999999999, 'gini = 0.0\\nsamples = 2\\nvalue = [2, 0]'),\n",
              " Text(322.02137404580156, 114.156, 'X[2] <= 30.35\\ngini = 0.278\\nsamples = 12\\nvalue = [2, 10]'),\n",
              " Text(319.46564885496184, 103.28399999999999, 'gini = 0.0\\nsamples = 7\\nvalue = [0, 7]'),\n",
              " Text(324.5770992366413, 103.28399999999999, 'X[2] <= 33.5\\ngini = 0.48\\nsamples = 5\\nvalue = [2, 3]'),\n",
              " Text(322.02137404580156, 92.412, 'X[3] <= 19.262\\ngini = 0.444\\nsamples = 3\\nvalue = [2, 1]'),\n",
              " Text(319.46564885496184, 81.53999999999999, 'gini = 0.0\\nsamples = 2\\nvalue = [2, 0]'),\n",
              " Text(324.5770992366413, 81.53999999999999, 'gini = 0.0\\nsamples = 1\\nvalue = [0, 1]'),\n",
              " Text(327.13282442748095, 92.412, 'gini = 0.0\\nsamples = 2\\nvalue = [0, 2]'),\n",
              " Text(299.0198473282443, 168.516, 'X[2] <= 55.0\\ngini = 0.245\\nsamples = 7\\nvalue = [6, 1]'),\n",
              " Text(296.4641221374046, 157.644, 'gini = 0.0\\nsamples = 6\\nvalue = [6, 0]'),\n",
              " Text(301.575572519084, 157.644, 'gini = 0.0\\nsamples = 1\\nvalue = [0, 1]'),\n",
              " Text(322.02137404580156, 179.388, 'X[3] <= 24.808\\ngini = 0.172\\nsamples = 21\\nvalue = [19, 2]'),\n",
              " Text(316.9099236641222, 168.516, 'X[2] <= 19.85\\ngini = 0.375\\nsamples = 4\\nvalue = [3, 1]'),\n",
              " Text(314.3541984732825, 157.644, 'gini = 0.0\\nsamples = 1\\nvalue = [1, 0]'),\n",
              " Text(319.46564885496184, 157.644, 'X[3] <= 23.8\\ngini = 0.444\\nsamples = 3\\nvalue = [2, 1]'),\n",
              " Text(316.9099236641222, 146.772, 'gini = 0.0\\nsamples = 1\\nvalue = [1, 0]'),\n",
              " Text(322.02137404580156, 146.772, 'X[2] <= 29.85\\ngini = 0.5\\nsamples = 2\\nvalue = [1, 1]'),\n",
              " Text(319.46564885496184, 135.9, 'gini = 0.0\\nsamples = 1\\nvalue = [0, 1]'),\n",
              " Text(324.5770992366413, 135.9, 'gini = 0.0\\nsamples = 1\\nvalue = [1, 0]'),\n",
              " Text(327.13282442748095, 168.516, 'X[2] <= 33.85\\ngini = 0.111\\nsamples = 17\\nvalue = [16, 1]'),\n",
              " Text(324.5770992366413, 157.644, 'gini = 0.0\\nsamples = 12\\nvalue = [12, 0]'),\n",
              " Text(329.6885496183206, 157.644, 'X[2] <= 39.5\\ngini = 0.32\\nsamples = 5\\nvalue = [4, 1]'),\n",
              " Text(327.13282442748095, 146.772, 'gini = 0.0\\nsamples = 1\\nvalue = [0, 1]'),\n",
              " Text(332.24427480916034, 146.772, 'gini = 0.0\\nsamples = 4\\nvalue = [4, 0]')]"
            ]
          },
          "metadata": {
            "tags": []
          },
          "execution_count": 35
        },
        {
          "output_type": "display_data",
          "data": {
            "image/png": "[encoded data removed]",
            "text/plain": [
              "<Figure size 432x288 with 1 Axes>"
            ]
          },
          "metadata": {
            "tags": [],
            "needs_background": "light"
          }
        }
      ]
    },
    {
      "cell_type": "code",
      "metadata": {
        "colab": {
          "base_uri": "https://localhost:8080/"
        },
        "id": "MgL1-OTZzAzN",
        "outputId": "ce180ad0-4e04-4f5a-d610-05653afb4085"
      },
      "source": [
        "#Decision making in decision tree\r\n",
        "text_representation = tree.export_text(model)\r\n",
        "print(text_representation)"
      ],
      "execution_count": 36,
      "outputs": [
        {
          "output_type": "stream",
          "text": [
            "|--- feature_1 <= 1.50\n",
            "|   |--- feature_2 <= 13.00\n",
            "|   |   |--- feature_0 <= 2.50\n",
            "|   |   |   |--- class: 1\n",
            "|   |   |--- feature_0 >  2.50\n",
            "|   |   |   |--- feature_3 <= 20.83\n",
            "|   |   |   |   |--- feature_2 <= 10.00\n",
            "|   |   |   |   |   |--- class: 1\n",
            "|   |   |   |   |--- feature_2 >  10.00\n",
            "|   |   |   |   |   |--- feature_2 <= 11.50\n",
            "|   |   |   |   |   |   |--- class: 0\n",
            "|   |   |   |   |   |--- feature_2 >  11.50\n",
            "|   |   |   |   |   |   |--- class: 1\n",
            "|   |   |   |--- feature_3 >  20.83\n",
            "|   |   |   |   |--- feature_2 <= 3.50\n",
            "|   |   |   |   |   |--- feature_2 <= 2.50\n",
            "|   |   |   |   |   |   |--- class: 0\n",
            "|   |   |   |   |   |--- feature_2 >  2.50\n",
            "|   |   |   |   |   |   |--- class: 1\n",
            "|   |   |   |   |--- feature_2 >  3.50\n",
            "|   |   |   |   |   |--- class: 0\n",
            "|   |--- feature_2 >  13.00\n",
            "|   |   |--- feature_0 <= 1.50\n",
            "|   |   |   |--- feature_3 <= 26.14\n",
            "|   |   |   |   |--- class: 0\n",
            "|   |   |   |--- feature_3 >  26.14\n",
            "|   |   |   |   |--- feature_3 <= 26.47\n",
            "|   |   |   |   |   |--- class: 1\n",
            "|   |   |   |   |--- feature_3 >  26.47\n",
            "|   |   |   |   |   |--- feature_3 <= 30.60\n",
            "|   |   |   |   |   |   |--- feature_2 <= 53.50\n",
            "|   |   |   |   |   |   |   |--- feature_3 <= 30.25\n",
            "|   |   |   |   |   |   |   |   |--- feature_2 <= 46.50\n",
            "|   |   |   |   |   |   |   |   |   |--- feature_2 <= 36.00\n",
            "|   |   |   |   |   |   |   |   |   |   |--- feature_2 <= 31.85\n",
            "|   |   |   |   |   |   |   |   |   |   |   |--- truncated branch of depth 4\n",
            "|   |   |   |   |   |   |   |   |   |   |--- feature_2 >  31.85\n",
            "|   |   |   |   |   |   |   |   |   |   |   |--- class: 1\n",
            "|   |   |   |   |   |   |   |   |   |--- feature_2 >  36.00\n",
            "|   |   |   |   |   |   |   |   |   |   |--- class: 0\n",
            "|   |   |   |   |   |   |   |   |--- feature_2 >  46.50\n",
            "|   |   |   |   |   |   |   |   |   |--- class: 1\n",
            "|   |   |   |   |   |   |   |--- feature_3 >  30.25\n",
            "|   |   |   |   |   |   |   |   |--- class: 1\n",
            "|   |   |   |   |   |   |--- feature_2 >  53.50\n",
            "|   |   |   |   |   |   |   |--- feature_2 <= 72.50\n",
            "|   |   |   |   |   |   |   |   |--- class: 0\n",
            "|   |   |   |   |   |   |   |--- feature_2 >  72.50\n",
            "|   |   |   |   |   |   |   |   |--- class: 1\n",
            "|   |   |   |   |   |--- feature_3 >  30.60\n",
            "|   |   |   |   |   |   |--- feature_2 <= 60.50\n",
            "|   |   |   |   |   |   |   |--- feature_2 <= 30.35\n",
            "|   |   |   |   |   |   |   |   |--- feature_2 <= 17.50\n",
            "|   |   |   |   |   |   |   |   |   |--- class: 1\n",
            "|   |   |   |   |   |   |   |   |--- feature_2 >  17.50\n",
            "|   |   |   |   |   |   |   |   |   |--- feature_3 <= 99.99\n",
            "|   |   |   |   |   |   |   |   |   |   |--- feature_3 <= 85.14\n",
            "|   |   |   |   |   |   |   |   |   |   |   |--- truncated branch of depth 4\n",
            "|   |   |   |   |   |   |   |   |   |   |--- feature_3 >  85.14\n",
            "|   |   |   |   |   |   |   |   |   |   |   |--- class: 1\n",
            "|   |   |   |   |   |   |   |   |   |--- feature_3 >  99.99\n",
            "|   |   |   |   |   |   |   |   |   |   |--- class: 0\n",
            "|   |   |   |   |   |   |   |--- feature_2 >  30.35\n",
            "|   |   |   |   |   |   |   |   |--- feature_3 <= 115.44\n",
            "|   |   |   |   |   |   |   |   |   |--- feature_2 <= 58.00\n",
            "|   |   |   |   |   |   |   |   |   |   |--- feature_2 <= 43.00\n",
            "|   |   |   |   |   |   |   |   |   |   |   |--- truncated branch of depth 6\n",
            "|   |   |   |   |   |   |   |   |   |   |--- feature_2 >  43.00\n",
            "|   |   |   |   |   |   |   |   |   |   |   |--- truncated branch of depth 7\n",
            "|   |   |   |   |   |   |   |   |   |--- feature_2 >  58.00\n",
            "|   |   |   |   |   |   |   |   |   |   |--- class: 1\n",
            "|   |   |   |   |   |   |   |   |--- feature_3 >  115.44\n",
            "|   |   |   |   |   |   |   |   |   |--- feature_2 <= 37.00\n",
            "|   |   |   |   |   |   |   |   |   |   |--- class: 1\n",
            "|   |   |   |   |   |   |   |   |   |--- feature_2 >  37.00\n",
            "|   |   |   |   |   |   |   |   |   |   |--- feature_2 <= 44.00\n",
            "|   |   |   |   |   |   |   |   |   |   |   |--- class: 0\n",
            "|   |   |   |   |   |   |   |   |   |   |--- feature_2 >  44.00\n",
            "|   |   |   |   |   |   |   |   |   |   |   |--- class: 1\n",
            "|   |   |   |   |   |   |--- feature_2 >  60.50\n",
            "|   |   |   |   |   |   |   |--- class: 0\n",
            "|   |   |--- feature_0 >  1.50\n",
            "|   |   |   |--- feature_2 <= 32.25\n",
            "|   |   |   |   |--- feature_2 <= 30.75\n",
            "|   |   |   |   |   |--- feature_3 <= 7.24\n",
            "|   |   |   |   |   |   |--- feature_2 <= 27.75\n",
            "|   |   |   |   |   |   |   |--- feature_2 <= 19.50\n",
            "|   |   |   |   |   |   |   |   |--- class: 0\n",
            "|   |   |   |   |   |   |   |--- feature_2 >  19.50\n",
            "|   |   |   |   |   |   |   |   |--- feature_2 <= 26.00\n",
            "|   |   |   |   |   |   |   |   |   |--- feature_3 <= 7.13\n",
            "|   |   |   |   |   |   |   |   |   |   |--- feature_3 <= 2.01\n",
            "|   |   |   |   |   |   |   |   |   |   |   |--- class: 1\n",
            "|   |   |   |   |   |   |   |   |   |   |--- feature_3 >  2.01\n",
            "|   |   |   |   |   |   |   |   |   |   |   |--- class: 0\n",
            "|   |   |   |   |   |   |   |   |   |--- feature_3 >  7.13\n",
            "|   |   |   |   |   |   |   |   |   |   |--- feature_2 <= 22.75\n",
            "|   |   |   |   |   |   |   |   |   |   |   |--- class: 1\n",
            "|   |   |   |   |   |   |   |   |   |   |--- feature_2 >  22.75\n",
            "|   |   |   |   |   |   |   |   |   |   |   |--- truncated branch of depth 2\n",
            "|   |   |   |   |   |   |   |   |--- feature_2 >  26.00\n",
            "|   |   |   |   |   |   |   |   |   |--- class: 1\n",
            "|   |   |   |   |   |   |--- feature_2 >  27.75\n",
            "|   |   |   |   |   |   |   |--- feature_3 <= 7.23\n",
            "|   |   |   |   |   |   |   |   |--- class: 0\n",
            "|   |   |   |   |   |   |   |--- feature_3 >  7.23\n",
            "|   |   |   |   |   |   |   |   |--- feature_2 <= 29.10\n",
            "|   |   |   |   |   |   |   |   |   |--- class: 0\n",
            "|   |   |   |   |   |   |   |   |--- feature_2 >  29.10\n",
            "|   |   |   |   |   |   |   |   |   |--- feature_2 <= 29.85\n",
            "|   |   |   |   |   |   |   |   |   |   |--- class: 0\n",
            "|   |   |   |   |   |   |   |   |   |--- feature_2 >  29.85\n",
            "|   |   |   |   |   |   |   |   |   |   |--- class: 0\n",
            "|   |   |   |   |   |--- feature_3 >  7.24\n",
            "|   |   |   |   |   |   |--- feature_3 <= 23.35\n",
            "|   |   |   |   |   |   |   |--- feature_3 <= 22.89\n",
            "|   |   |   |   |   |   |   |   |--- feature_2 <= 20.25\n",
            "|   |   |   |   |   |   |   |   |   |--- feature_3 <= 8.10\n",
            "|   |   |   |   |   |   |   |   |   |   |--- feature_3 <= 7.91\n",
            "|   |   |   |   |   |   |   |   |   |   |   |--- class: 0\n",
            "|   |   |   |   |   |   |   |   |   |   |--- feature_3 >  7.91\n",
            "|   |   |   |   |   |   |   |   |   |   |   |--- truncated branch of depth 4\n",
            "|   |   |   |   |   |   |   |   |   |--- feature_3 >  8.10\n",
            "|   |   |   |   |   |   |   |   |   |   |--- feature_0 <= 2.50\n",
            "|   |   |   |   |   |   |   |   |   |   |   |--- truncated branch of depth 2\n",
            "|   |   |   |   |   |   |   |   |   |   |--- feature_0 >  2.50\n",
            "|   |   |   |   |   |   |   |   |   |   |   |--- class: 0\n",
            "|   |   |   |   |   |   |   |   |--- feature_2 >  20.25\n",
            "|   |   |   |   |   |   |   |   |   |--- feature_2 <= 26.50\n",
            "|   |   |   |   |   |   |   |   |   |   |--- feature_2 <= 21.50\n",
            "|   |   |   |   |   |   |   |   |   |   |   |--- truncated branch of depth 3\n",
            "|   |   |   |   |   |   |   |   |   |   |--- feature_2 >  21.50\n",
            "|   |   |   |   |   |   |   |   |   |   |   |--- class: 0\n",
            "|   |   |   |   |   |   |   |   |   |--- feature_2 >  26.50\n",
            "|   |   |   |   |   |   |   |   |   |   |--- feature_2 <= 29.35\n",
            "|   |   |   |   |   |   |   |   |   |   |   |--- truncated branch of depth 4\n",
            "|   |   |   |   |   |   |   |   |   |   |--- feature_2 >  29.35\n",
            "|   |   |   |   |   |   |   |   |   |   |   |--- truncated branch of depth 9\n",
            "|   |   |   |   |   |   |   |--- feature_3 >  22.89\n",
            "|   |   |   |   |   |   |   |   |--- class: 1\n",
            "|   |   |   |   |   |   |--- feature_3 >  23.35\n",
            "|   |   |   |   |   |   |   |--- class: 0\n",
            "|   |   |   |   |--- feature_2 >  30.75\n",
            "|   |   |   |   |   |--- feature_3 <= 7.81\n",
            "|   |   |   |   |   |   |--- class: 0\n",
            "|   |   |   |   |   |--- feature_3 >  7.81\n",
            "|   |   |   |   |   |   |--- feature_3 <= 65.00\n",
            "|   |   |   |   |   |   |   |--- feature_3 <= 41.37\n",
            "|   |   |   |   |   |   |   |   |--- feature_3 <= 26.12\n",
            "|   |   |   |   |   |   |   |   |   |--- feature_2 <= 31.50\n",
            "|   |   |   |   |   |   |   |   |   |   |--- class: 1\n",
            "|   |   |   |   |   |   |   |   |   |--- feature_2 >  31.50\n",
            "|   |   |   |   |   |   |   |   |   |   |--- feature_3 <= 7.88\n",
            "|   |   |   |   |   |   |   |   |   |   |   |--- class: 1\n",
            "|   |   |   |   |   |   |   |   |   |   |--- feature_3 >  7.88\n",
            "|   |   |   |   |   |   |   |   |   |   |   |--- truncated branch of depth 5\n",
            "|   |   |   |   |   |   |   |   |--- feature_3 >  26.12\n",
            "|   |   |   |   |   |   |   |   |   |--- class: 0\n",
            "|   |   |   |   |   |   |   |--- feature_3 >  41.37\n",
            "|   |   |   |   |   |   |   |   |--- class: 1\n",
            "|   |   |   |   |   |   |--- feature_3 >  65.00\n",
            "|   |   |   |   |   |   |   |--- class: 0\n",
            "|   |   |   |--- feature_2 >  32.25\n",
            "|   |   |   |   |--- feature_3 <= 13.25\n",
            "|   |   |   |   |   |--- feature_3 <= 7.91\n",
            "|   |   |   |   |   |   |--- class: 0\n",
            "|   |   |   |   |   |--- feature_3 >  7.91\n",
            "|   |   |   |   |   |   |--- feature_2 <= 38.50\n",
            "|   |   |   |   |   |   |   |--- feature_3 <= 12.94\n",
            "|   |   |   |   |   |   |   |   |--- class: 0\n",
            "|   |   |   |   |   |   |   |--- feature_3 >  12.94\n",
            "|   |   |   |   |   |   |   |   |--- feature_2 <= 35.00\n",
            "|   |   |   |   |   |   |   |   |   |--- class: 0\n",
            "|   |   |   |   |   |   |   |   |--- feature_2 >  35.00\n",
            "|   |   |   |   |   |   |   |   |   |--- class: 0\n",
            "|   |   |   |   |   |   |--- feature_2 >  38.50\n",
            "|   |   |   |   |   |   |   |--- feature_2 <= 46.00\n",
            "|   |   |   |   |   |   |   |   |--- feature_2 <= 44.50\n",
            "|   |   |   |   |   |   |   |   |   |--- feature_2 <= 42.50\n",
            "|   |   |   |   |   |   |   |   |   |   |--- feature_3 <= 8.16\n",
            "|   |   |   |   |   |   |   |   |   |   |   |--- class: 0\n",
            "|   |   |   |   |   |   |   |   |   |   |--- feature_3 >  8.16\n",
            "|   |   |   |   |   |   |   |   |   |   |   |--- truncated branch of depth 3\n",
            "|   |   |   |   |   |   |   |   |   |--- feature_2 >  42.50\n",
            "|   |   |   |   |   |   |   |   |   |   |--- class: 0\n",
            "|   |   |   |   |   |   |   |   |--- feature_2 >  44.50\n",
            "|   |   |   |   |   |   |   |   |   |--- class: 1\n",
            "|   |   |   |   |   |   |   |--- feature_2 >  46.00\n",
            "|   |   |   |   |   |   |   |   |--- feature_2 <= 59.50\n",
            "|   |   |   |   |   |   |   |   |   |--- class: 0\n",
            "|   |   |   |   |   |   |   |   |--- feature_2 >  59.50\n",
            "|   |   |   |   |   |   |   |   |   |--- feature_2 <= 64.00\n",
            "|   |   |   |   |   |   |   |   |   |   |--- class: 1\n",
            "|   |   |   |   |   |   |   |   |   |--- feature_2 >  64.00\n",
            "|   |   |   |   |   |   |   |   |   |   |--- class: 0\n",
            "|   |   |   |   |--- feature_3 >  13.25\n",
            "|   |   |   |   |   |--- class: 0\n",
            "|--- feature_1 >  1.50\n",
            "|   |--- feature_0 <= 2.50\n",
            "|   |   |--- feature_2 <= 2.50\n",
            "|   |   |   |--- feature_0 <= 1.50\n",
            "|   |   |   |   |--- class: 0\n",
            "|   |   |   |--- feature_0 >  1.50\n",
            "|   |   |   |   |--- class: 1\n",
            "|   |   |--- feature_2 >  2.50\n",
            "|   |   |   |--- feature_3 <= 28.86\n",
            "|   |   |   |   |--- feature_3 <= 28.23\n",
            "|   |   |   |   |   |--- feature_2 <= 27.50\n",
            "|   |   |   |   |   |   |--- feature_2 <= 25.50\n",
            "|   |   |   |   |   |   |   |--- feature_3 <= 13.75\n",
            "|   |   |   |   |   |   |   |   |--- feature_2 <= 21.00\n",
            "|   |   |   |   |   |   |   |   |   |--- class: 1\n",
            "|   |   |   |   |   |   |   |   |--- feature_2 >  21.00\n",
            "|   |   |   |   |   |   |   |   |   |--- class: 0\n",
            "|   |   |   |   |   |   |   |--- feature_3 >  13.75\n",
            "|   |   |   |   |   |   |   |   |--- class: 1\n",
            "|   |   |   |   |   |   |--- feature_2 >  25.50\n",
            "|   |   |   |   |   |   |   |--- feature_3 <= 15.75\n",
            "|   |   |   |   |   |   |   |   |--- class: 1\n",
            "|   |   |   |   |   |   |   |--- feature_3 >  15.75\n",
            "|   |   |   |   |   |   |   |   |--- class: 0\n",
            "|   |   |   |   |   |--- feature_2 >  27.50\n",
            "|   |   |   |   |   |   |--- feature_2 <= 37.00\n",
            "|   |   |   |   |   |   |   |--- class: 1\n",
            "|   |   |   |   |   |   |--- feature_2 >  37.00\n",
            "|   |   |   |   |   |   |   |--- feature_2 <= 39.00\n",
            "|   |   |   |   |   |   |   |   |--- class: 0\n",
            "|   |   |   |   |   |   |   |--- feature_2 >  39.00\n",
            "|   |   |   |   |   |   |   |   |--- feature_2 <= 44.50\n",
            "|   |   |   |   |   |   |   |   |   |--- feature_2 <= 43.00\n",
            "|   |   |   |   |   |   |   |   |   |   |--- class: 1\n",
            "|   |   |   |   |   |   |   |   |   |--- feature_2 >  43.00\n",
            "|   |   |   |   |   |   |   |   |   |   |--- feature_0 <= 1.50\n",
            "|   |   |   |   |   |   |   |   |   |   |   |--- class: 1\n",
            "|   |   |   |   |   |   |   |   |   |   |--- feature_0 >  1.50\n",
            "|   |   |   |   |   |   |   |   |   |   |   |--- class: 0\n",
            "|   |   |   |   |   |   |   |   |--- feature_2 >  44.50\n",
            "|   |   |   |   |   |   |   |   |   |--- class: 1\n",
            "|   |   |   |   |--- feature_3 >  28.23\n",
            "|   |   |   |   |   |--- class: 0\n",
            "|   |   |   |--- feature_3 >  28.86\n",
            "|   |   |   |   |--- class: 1\n",
            "|   |--- feature_0 >  2.50\n",
            "|   |   |--- feature_3 <= 23.35\n",
            "|   |   |   |--- feature_2 <= 36.50\n",
            "|   |   |   |   |--- feature_2 <= 6.50\n",
            "|   |   |   |   |   |--- feature_3 <= 20.17\n",
            "|   |   |   |   |   |   |--- class: 1\n",
            "|   |   |   |   |   |--- feature_3 >  20.17\n",
            "|   |   |   |   |   |   |--- feature_3 <= 21.55\n",
            "|   |   |   |   |   |   |   |--- class: 0\n",
            "|   |   |   |   |   |   |--- feature_3 >  21.55\n",
            "|   |   |   |   |   |   |   |--- class: 1\n",
            "|   |   |   |   |--- feature_2 >  6.50\n",
            "|   |   |   |   |   |--- feature_3 <= 7.89\n",
            "|   |   |   |   |   |   |--- feature_2 <= 30.10\n",
            "|   |   |   |   |   |   |   |--- feature_3 <= 6.99\n",
            "|   |   |   |   |   |   |   |   |--- class: 0\n",
            "|   |   |   |   |   |   |   |--- feature_3 >  6.99\n",
            "|   |   |   |   |   |   |   |   |--- feature_3 <= 7.52\n",
            "|   |   |   |   |   |   |   |   |   |--- class: 1\n",
            "|   |   |   |   |   |   |   |   |--- feature_3 >  7.52\n",
            "|   |   |   |   |   |   |   |   |   |--- feature_3 <= 7.68\n",
            "|   |   |   |   |   |   |   |   |   |   |--- class: 0\n",
            "|   |   |   |   |   |   |   |   |   |--- feature_3 >  7.68\n",
            "|   |   |   |   |   |   |   |   |   |   |--- feature_2 <= 15.00\n",
            "|   |   |   |   |   |   |   |   |   |   |   |--- class: 0\n",
            "|   |   |   |   |   |   |   |   |   |   |--- feature_2 >  15.00\n",
            "|   |   |   |   |   |   |   |   |   |   |   |--- truncated branch of depth 7\n",
            "|   |   |   |   |   |   |--- feature_2 >  30.10\n",
            "|   |   |   |   |   |   |   |--- class: 0\n",
            "|   |   |   |   |   |--- feature_3 >  7.89\n",
            "|   |   |   |   |   |   |--- feature_3 <= 15.37\n",
            "|   |   |   |   |   |   |   |--- feature_2 <= 19.00\n",
            "|   |   |   |   |   |   |   |   |--- feature_3 <= 12.85\n",
            "|   |   |   |   |   |   |   |   |   |--- class: 1\n",
            "|   |   |   |   |   |   |   |   |--- feature_3 >  12.85\n",
            "|   |   |   |   |   |   |   |   |   |--- class: 0\n",
            "|   |   |   |   |   |   |   |--- feature_2 >  19.00\n",
            "|   |   |   |   |   |   |   |   |--- feature_3 <= 11.47\n",
            "|   |   |   |   |   |   |   |   |   |--- class: 0\n",
            "|   |   |   |   |   |   |   |   |--- feature_3 >  11.47\n",
            "|   |   |   |   |   |   |   |   |   |--- feature_3 <= 13.44\n",
            "|   |   |   |   |   |   |   |   |   |   |--- class: 1\n",
            "|   |   |   |   |   |   |   |   |   |--- feature_3 >  13.44\n",
            "|   |   |   |   |   |   |   |   |   |   |--- class: 0\n",
            "|   |   |   |   |   |   |--- feature_3 >  15.37\n",
            "|   |   |   |   |   |   |   |--- feature_2 <= 21.00\n",
            "|   |   |   |   |   |   |   |   |--- class: 0\n",
            "|   |   |   |   |   |   |   |--- feature_2 >  21.00\n",
            "|   |   |   |   |   |   |   |   |--- feature_2 <= 29.35\n",
            "|   |   |   |   |   |   |   |   |   |--- feature_2 <= 25.00\n",
            "|   |   |   |   |   |   |   |   |   |   |--- class: 1\n",
            "|   |   |   |   |   |   |   |   |   |--- feature_2 >  25.00\n",
            "|   |   |   |   |   |   |   |   |   |   |--- class: 0\n",
            "|   |   |   |   |   |   |   |   |--- feature_2 >  29.35\n",
            "|   |   |   |   |   |   |   |   |   |--- feature_2 <= 30.35\n",
            "|   |   |   |   |   |   |   |   |   |   |--- class: 1\n",
            "|   |   |   |   |   |   |   |   |   |--- feature_2 >  30.35\n",
            "|   |   |   |   |   |   |   |   |   |   |--- feature_2 <= 33.50\n",
            "|   |   |   |   |   |   |   |   |   |   |   |--- truncated branch of depth 2\n",
            "|   |   |   |   |   |   |   |   |   |   |--- feature_2 >  33.50\n",
            "|   |   |   |   |   |   |   |   |   |   |   |--- class: 1\n",
            "|   |   |   |--- feature_2 >  36.50\n",
            "|   |   |   |   |--- feature_2 <= 55.00\n",
            "|   |   |   |   |   |--- class: 0\n",
            "|   |   |   |   |--- feature_2 >  55.00\n",
            "|   |   |   |   |   |--- class: 1\n",
            "|   |   |--- feature_3 >  23.35\n",
            "|   |   |   |--- feature_3 <= 24.81\n",
            "|   |   |   |   |--- feature_2 <= 19.85\n",
            "|   |   |   |   |   |--- class: 0\n",
            "|   |   |   |   |--- feature_2 >  19.85\n",
            "|   |   |   |   |   |--- feature_3 <= 23.80\n",
            "|   |   |   |   |   |   |--- class: 0\n",
            "|   |   |   |   |   |--- feature_3 >  23.80\n",
            "|   |   |   |   |   |   |--- feature_2 <= 29.85\n",
            "|   |   |   |   |   |   |   |--- class: 1\n",
            "|   |   |   |   |   |   |--- feature_2 >  29.85\n",
            "|   |   |   |   |   |   |   |--- class: 0\n",
            "|   |   |   |--- feature_3 >  24.81\n",
            "|   |   |   |   |--- feature_2 <= 33.85\n",
            "|   |   |   |   |   |--- class: 0\n",
            "|   |   |   |   |--- feature_2 >  33.85\n",
            "|   |   |   |   |   |--- feature_2 <= 39.50\n",
            "|   |   |   |   |   |   |--- class: 1\n",
            "|   |   |   |   |   |--- feature_2 >  39.50\n",
            "|   |   |   |   |   |   |--- class: 0\n",
            "\n"
          ],
          "name": "stdout"
        }
      ]
    },
    {
      "cell_type": "markdown",
      "metadata": {
        "id": "zk8gVZK51BYk"
      },
      "source": [
        "***Thank you Goeduhub Techonologies***"
      ]
    }
  ]
}